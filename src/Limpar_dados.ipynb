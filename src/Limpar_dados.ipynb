{
 "cells": [
  {
   "cell_type": "code",
   "execution_count": 1,
   "id": "79a0fa28",
   "metadata": {},
   "outputs": [],
   "source": [
    "import os\n",
    "import cv2\n",
    "from pathlib import Path\n",
    "from tqdm import tqdm\n"
   ]
  },
  {
   "cell_type": "code",
   "execution_count": 2,
   "id": "ed4921e4",
   "metadata": {},
   "outputs": [],
   "source": [
    "# Supondo que o notebook está dentro da pasta /src\n",
    "caminho_base = Path('../data/Weeds')\n",
    "pastas = ['train', 'valid', 'test']\n"
   ]
  },
  {
   "cell_type": "code",
   "execution_count": 3,
   "id": "9918e9a8",
   "metadata": {},
   "outputs": [],
   "source": [
    "def verifica_imagens_corrompidas(pasta_imagens):\n",
    "    corrompidas = []\n",
    "    for img_path in tqdm(list(pasta_imagens.glob('*.jpg')), desc='Verificando imagens'):\n",
    "        img = cv2.imread(str(img_path))\n",
    "        if img is None or img.size == 0:\n",
    "            corrompidas.append(img_path)\n",
    "            if corrompidas:\n",
    "                print(f\"[!] {len(corrompidas)} imagem corrompida encontrada em {pasta_imagens.name}:\")\n",
    "                for c in corrompidas:\n",
    "                    print(f\" - {c.name}\")\n",
    "            else:\n",
    "                print(f\"Nenhuma imagem corrompida encontrada em {pasta_imagens.name}.\")\n",
    "    return corrompidas\n",
    "\n",
    "\n",
    "\n"
   ]
  },
  {
   "cell_type": "code",
   "execution_count": 4,
   "id": "e8d79101",
   "metadata": {},
   "outputs": [],
   "source": [
    "def verifica_labels_vazias(pasta_labels):\n",
    "    vazias = []\n",
    "    for label_path in tqdm(list(pasta_labels.glob('*.txt')), desc=f'Verificando labels em {pasta_labels.name}'):\n",
    "        if label_path.stat().st_size == 0:\n",
    "            vazias.append(label_path)\n",
    "    \n",
    "    if vazias:\n",
    "        print(f\"{len(vazias)} labels vazia encontradas em {pasta_labels.name}:\")\n",
    "        for v in vazias:\n",
    "            print(f\" - {v.name}\")\n",
    "    else:\n",
    "        print(f\" Nenhuma label vazia encontrada em {pasta_labels.name}.\")\n",
    "    \n",
    "    return vazias\n",
    "\n"
   ]
  },
  {
   "cell_type": "code",
   "execution_count": 5,
   "id": "55c64fe1",
   "metadata": {},
   "outputs": [],
   "source": [
    "def verificar_inconsistencias(pasta_imagens, pasta_labels):\n",
    "    imagens = set(p.stem for p in pasta_imagens.glob('*.jpg'))\n",
    "    labels = set(p.stem for p in pasta_labels.glob('*.txt'))\n",
    "\n",
    "    imagens_sem_label = imagens - labels\n",
    "    labels_sem_imagem = labels - imagens\n",
    "\n",
    "    if imagens_sem_label:\n",
    "        print(f\"[!] {len(imagens_sem_label)} imagem sem label em {pasta_imagens.name}:\")\n",
    "        for i in imagens_sem_label:\n",
    "            print(f\" - {i}.jpg\")\n",
    "    else:\n",
    "        print(f\"Todas as imagens possuem label em {pasta_imagens.name}.\")\n",
    "\n",
    "    if labels_sem_imagem:\n",
    "        print(f\"{len(labels_sem_imagem)} label sem imagem em {pasta_labels.name}:\")\n",
    "        for l in labels_sem_imagem:\n",
    "            print(f\" - {l}.txt\")\n",
    "    else:\n",
    "        print(f\" Todas as labels possuem imagem correspondente em {pasta_labels.name}.\")\n",
    "\n",
    "    return imagens_sem_label, labels_sem_imagem\n"
   ]
  },
  {
   "cell_type": "code",
   "execution_count": 6,
   "id": "d855519d",
   "metadata": {},
   "outputs": [
    {
     "name": "stdout",
     "output_type": "stream",
     "text": [
      "\n",
      "--- Verificando TRAIN ---\n"
     ]
    },
    {
     "name": "stderr",
     "output_type": "stream",
     "text": [
      "Verificando imagens:   1%|          | 24/3664 [00:01<02:35, 23.42it/s]\n"
     ]
    },
    {
     "ename": "KeyboardInterrupt",
     "evalue": "",
     "output_type": "error",
     "traceback": [
      "\u001b[31m---------------------------------------------------------------------------\u001b[39m",
      "\u001b[31mKeyboardInterrupt\u001b[39m                         Traceback (most recent call last)",
      "\u001b[36mCell\u001b[39m\u001b[36m \u001b[39m\u001b[32mIn[6]\u001b[39m\u001b[32m, line 6\u001b[39m\n\u001b[32m      3\u001b[39m pasta_img = caminho_base / parte / \u001b[33m'\u001b[39m\u001b[33mimages\u001b[39m\u001b[33m'\u001b[39m\n\u001b[32m      4\u001b[39m pasta_lbl = caminho_base / parte / \u001b[33m'\u001b[39m\u001b[33mlabels\u001b[39m\u001b[33m'\u001b[39m\n\u001b[32m----> \u001b[39m\u001b[32m6\u001b[39m imgs_corrompidas = \u001b[43mverifica_imagens_corrompidas\u001b[49m\u001b[43m(\u001b[49m\u001b[43mpasta_img\u001b[49m\u001b[43m)\u001b[49m\n\u001b[32m      7\u001b[39m lbls_vazias = verifica_labels_vazias(pasta_lbl)\n\u001b[32m      8\u001b[39m imgs_sem_lbl, lbls_sem_img = verificar_inconsistencias(pasta_img, pasta_lbl)\n",
      "\u001b[36mCell\u001b[39m\u001b[36m \u001b[39m\u001b[32mIn[3]\u001b[39m\u001b[32m, line 4\u001b[39m, in \u001b[36mverifica_imagens_corrompidas\u001b[39m\u001b[34m(pasta_imagens)\u001b[39m\n\u001b[32m      2\u001b[39m corrompidas = []\n\u001b[32m      3\u001b[39m \u001b[38;5;28;01mfor\u001b[39;00m img_path \u001b[38;5;129;01min\u001b[39;00m tqdm(\u001b[38;5;28mlist\u001b[39m(pasta_imagens.glob(\u001b[33m'\u001b[39m\u001b[33m*.jpg\u001b[39m\u001b[33m'\u001b[39m)), desc=\u001b[33m'\u001b[39m\u001b[33mVerificando imagens\u001b[39m\u001b[33m'\u001b[39m):\n\u001b[32m----> \u001b[39m\u001b[32m4\u001b[39m     img = \u001b[43mcv2\u001b[49m\u001b[43m.\u001b[49m\u001b[43mimread\u001b[49m\u001b[43m(\u001b[49m\u001b[38;5;28;43mstr\u001b[39;49m\u001b[43m(\u001b[49m\u001b[43mimg_path\u001b[49m\u001b[43m)\u001b[49m\u001b[43m)\u001b[49m\n\u001b[32m      5\u001b[39m     \u001b[38;5;28;01mif\u001b[39;00m img \u001b[38;5;129;01mis\u001b[39;00m \u001b[38;5;28;01mNone\u001b[39;00m \u001b[38;5;129;01mor\u001b[39;00m img.size == \u001b[32m0\u001b[39m:\n\u001b[32m      6\u001b[39m         corrompidas.append(img_path)\n",
      "\u001b[31mKeyboardInterrupt\u001b[39m: "
     ]
    }
   ],
   "source": [
    "for parte in pastas:\n",
    "    print(f'\\n--- Verificando {parte.upper()} ---')\n",
    "    pasta_img = caminho_base / parte / 'images'\n",
    "    pasta_lbl = caminho_base / parte / 'labels'\n",
    "\n",
    "    imgs_corrompidas = verifica_imagens_corrompidas(pasta_img)\n",
    "    lbls_vazias = verifica_labels_vazias(pasta_lbl)\n",
    "    imgs_sem_lbl, lbls_sem_img = verificar_inconsistencias(pasta_img, pasta_lbl)\n",
    "\n",
    "   \n",
    "    print(f'Labels vazias:       {len(lbls_vazias)}')\n",
    "    print(f'Imagens sem label:   {len(imgs_sem_lbl)}')\n",
    "    print(f'Labels sem imagem:   {len(lbls_sem_img)}')\n"
   ]
  }
 ],
 "metadata": {
  "kernelspec": {
   "display_name": ".venv",
   "language": "python",
   "name": "python3"
  },
  "language_info": {
   "codemirror_mode": {
    "name": "ipython",
    "version": 3
   },
   "file_extension": ".py",
   "mimetype": "text/x-python",
   "name": "python",
   "nbconvert_exporter": "python",
   "pygments_lexer": "ipython3",
   "version": "3.11.0"
  }
 },
 "nbformat": 4,
 "nbformat_minor": 5
}
