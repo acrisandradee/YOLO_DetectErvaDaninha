{
 "cells": [
  {
   "cell_type": "code",
   "execution_count": 1,
   "id": "79a0fa28",
   "metadata": {},
   "outputs": [],
   "source": [
    "import os\n",
    "import cv2\n",
    "from pathlib import Path\n",
    "from tqdm import tqdm\n"
   ]
  },
  {
   "cell_type": "code",
   "execution_count": 2,
   "id": "ed4921e4",
   "metadata": {},
   "outputs": [],
   "source": [
    "caminho_base = Path('../data/Weeds')\n",
    "pastas = ['train', 'valid', 'test']\n"
   ]
  },
  {
   "cell_type": "code",
   "execution_count": 3,
   "id": "9918e9a8",
   "metadata": {},
   "outputs": [],
   "source": [
    "def verifica_imagens_corrompidas(pasta_imagens):\n",
    "    corrompidas = []\n",
    "    for img_path in tqdm(list(pasta_imagens.glob('*.jpg')), desc='Verificando imagens'):\n",
    "        img = cv2.imread(str(img_path))\n",
    "        if img is None or img.size == 0:\n",
    "            corrompidas.append(img_path)\n",
    "            if corrompidas:\n",
    "                print(f\"[!] {len(corrompidas)} imagem corrompida encontrada em {pasta_imagens.name}:\")\n",
    "                for c in corrompidas:\n",
    "                    print(f\" - {c.name}\")\n",
    "            else:\n",
    "                print(f\"Nenhuma imagem corrompida encontrada em {pasta_imagens.name}.\")\n",
    "    return corrompidas\n",
    "\n",
    "\n",
    "\n"
   ]
  },
  {
   "cell_type": "code",
   "execution_count": 4,
   "id": "e8d79101",
   "metadata": {},
   "outputs": [],
   "source": [
    "def verifica_labels_vazias(pasta_labels):\n",
    "    vazias = []\n",
    "    for label_path in tqdm(list(pasta_labels.glob('*.txt')), desc=f'Verificando labels em {pasta_labels.name}'):\n",
    "        if label_path.stat().st_size == 0:\n",
    "            vazias.append(label_path)\n",
    "    \n",
    "    if vazias:\n",
    "        print(f\"{len(vazias)} labels vazia encontradas em {pasta_labels.name}:\")\n",
    "        for v in vazias:\n",
    "            print(f\" - {v.name}\")\n",
    "    else:\n",
    "        print(f\" Nenhuma label vazia encontrada em {pasta_labels.name}.\")\n",
    "    \n",
    "    return vazias\n",
    "\n"
   ]
  },
  {
   "cell_type": "code",
   "execution_count": 5,
   "id": "55c64fe1",
   "metadata": {},
   "outputs": [],
   "source": [
    "def verificar_inconsistencias(pasta_imagens, pasta_labels):\n",
    "    imagens = set(p.stem for p in pasta_imagens.glob('*.jpg'))\n",
    "    labels = set(p.stem for p in pasta_labels.glob('*.txt'))\n",
    "\n",
    "    imagens_sem_label = imagens - labels\n",
    "    labels_sem_imagem = labels - imagens\n",
    "\n",
    "    if imagens_sem_label:\n",
    "        print(f\"[!] {len(imagens_sem_label)} imagem sem label em {pasta_imagens.name}:\")\n",
    "        for i in imagens_sem_label:\n",
    "            print(f\" - {i}.jpg\")\n",
    "    else:\n",
    "        print(f\"Todas as imagens possuem label em {pasta_imagens.name}.\")\n",
    "\n",
    "    if labels_sem_imagem:\n",
    "        print(f\"{len(labels_sem_imagem)} label sem imagem em {pasta_labels.name}:\")\n",
    "        for l in labels_sem_imagem:\n",
    "            print(f\" - {l}.txt\")\n",
    "    else:\n",
    "        print(f\" Todas as labels possuem imagem correspondente em {pasta_labels.name}.\")\n",
    "\n",
    "    return imagens_sem_label, labels_sem_imagem\n"
   ]
  },
  {
   "cell_type": "code",
   "execution_count": 6,
   "id": "d855519d",
   "metadata": {},
   "outputs": [
    {
     "name": "stdout",
     "output_type": "stream",
     "text": [
      "\n",
      "--- Verificando TRAIN ---\n"
     ]
    },
    {
     "name": "stderr",
     "output_type": "stream",
     "text": [
      "Verificando imagens: 100%|██████████| 3664/3664 [00:47<00:00, 76.68it/s]\n",
      "Verificando labels em labels: 100%|██████████| 3664/3664 [00:00<00:00, 15048.63it/s]\n"
     ]
    },
    {
     "name": "stdout",
     "output_type": "stream",
     "text": [
      " Nenhuma label vazia encontrada em labels.\n",
      "Todas as imagens possuem label em images.\n",
      " Todas as labels possuem imagem correspondente em labels.\n",
      "Labels vazias:       0\n",
      "Imagens sem label:   0\n",
      "Labels sem imagem:   0\n",
      "\n",
      "--- Verificando VALID ---\n"
     ]
    },
    {
     "name": "stderr",
     "output_type": "stream",
     "text": [
      "Verificando imagens: 100%|██████████| 359/359 [00:00<00:00, 791.94it/s]\n",
      "Verificando labels em labels: 100%|██████████| 359/359 [00:00<00:00, 30383.69it/s]\n"
     ]
    },
    {
     "name": "stdout",
     "output_type": "stream",
     "text": [
      " Nenhuma label vazia encontrada em labels.\n",
      "Todas as imagens possuem label em images.\n",
      " Todas as labels possuem imagem correspondente em labels.\n",
      "Labels vazias:       0\n",
      "Imagens sem label:   0\n",
      "Labels sem imagem:   0\n",
      "\n",
      "--- Verificando TEST ---\n"
     ]
    },
    {
     "name": "stderr",
     "output_type": "stream",
     "text": [
      "Verificando imagens: 100%|██████████| 180/180 [00:02<00:00, 83.23it/s]\n",
      "Verificando labels em labels: 100%|██████████| 180/180 [00:00<00:00, 16529.28it/s]"
     ]
    },
    {
     "name": "stdout",
     "output_type": "stream",
     "text": [
      " Nenhuma label vazia encontrada em labels.\n",
      "Todas as imagens possuem label em images.\n",
      " Todas as labels possuem imagem correspondente em labels.\n",
      "Labels vazias:       0\n",
      "Imagens sem label:   0\n",
      "Labels sem imagem:   0\n"
     ]
    },
    {
     "name": "stderr",
     "output_type": "stream",
     "text": [
      "\n"
     ]
    }
   ],
   "source": [
    "for parte in pastas:\n",
    "    print(f'\\n--- Verificando {parte.upper()} ---')\n",
    "    pasta_img = caminho_base / parte / 'images'\n",
    "    pasta_lbl = caminho_base / parte / 'labels'\n",
    "\n",
    "    imgs_corrompidas = verifica_imagens_corrompidas(pasta_img)\n",
    "    lbls_vazias = verifica_labels_vazias(pasta_lbl)\n",
    "    imgs_sem_lbl, lbls_sem_img = verificar_inconsistencias(pasta_img, pasta_lbl)\n",
    "\n",
    "   \n",
    "    print(f'Labels vazias:       {len(lbls_vazias)}')\n",
    "    print(f'Imagens sem label:   {len(imgs_sem_lbl)}')\n",
    "    print(f'Labels sem imagem:   {len(lbls_sem_img)}')\n"
   ]
  }
 ],
 "metadata": {
  "kernelspec": {
   "display_name": ".venv",
   "language": "python",
   "name": "python3"
  },
  "language_info": {
   "codemirror_mode": {
    "name": "ipython",
    "version": 3
   },
   "file_extension": ".py",
   "mimetype": "text/x-python",
   "name": "python",
   "nbconvert_exporter": "python",
   "pygments_lexer": "ipython3",
   "version": "3.11.0"
  }
 },
 "nbformat": 4,
 "nbformat_minor": 5
}
