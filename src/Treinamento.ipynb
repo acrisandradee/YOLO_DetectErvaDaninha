{
 "cells": [
  {
   "cell_type": "code",
   "execution_count": null,
   "id": "281aadfb",
   "metadata": {},
   "outputs": [
    {
     "name": "stdout",
     "output_type": "stream",
     "text": [
      "New https://pypi.org/project/ultralytics/8.3.192 available  Update with 'pip install -U ultralytics'\n",
      "Ultralytics 8.3.119  Python-3.11.0 torch-2.7.0+cpu CPU (Intel Core(TM) i7-8665U 1.90GHz)\n",
      "\u001b[34m\u001b[1mengine\\trainer: \u001b[0mtask=detect, mode=train, model=yolov8n.pt, data=C:\\Users\\Cristina\\Documents\\DeteccaoPlantas\\data\\Weeds\\data.yaml, epochs=20, time=None, patience=5, batch=8, imgsz=416, save=True, save_period=-1, cache=True, device=None, workers=8, project=C:\\Users\\Cristina\\Documents\\DeteccaoPlantas\\runs\\detect, name=treinamento_ervas_final, exist_ok=False, pretrained=True, optimizer=auto, verbose=True, seed=0, deterministic=True, single_cls=False, rect=False, cos_lr=False, close_mosaic=10, resume=False, amp=True, fraction=1.0, profile=False, freeze=None, multi_scale=False, overlap_mask=True, mask_ratio=4, dropout=0.0, val=True, split=val, save_json=False, conf=None, iou=0.7, max_det=300, half=False, dnn=False, plots=True, source=None, vid_stride=1, stream_buffer=False, visualize=False, augment=False, agnostic_nms=False, classes=None, retina_masks=False, embed=None, show=False, save_frames=False, save_txt=False, save_conf=False, save_crop=False, show_labels=True, show_conf=True, show_boxes=True, line_width=None, format=torchscript, keras=False, optimize=False, int8=False, dynamic=False, simplify=True, opset=None, workspace=None, nms=False, lr0=0.01, lrf=0.01, momentum=0.937, weight_decay=0.0005, warmup_epochs=3.0, warmup_momentum=0.8, warmup_bias_lr=0.1, box=7.5, cls=0.5, dfl=1.5, pose=12.0, kobj=1.0, nbs=64, hsv_h=0.015, hsv_s=0.7, hsv_v=0.4, degrees=0.0, translate=0.1, scale=0.5, shear=0.0, perspective=0.0, flipud=0.0, fliplr=0.5, bgr=0.0, mosaic=1.0, mixup=0.0, cutmix=0.0, copy_paste=0.0, copy_paste_mode=flip, auto_augment=randaugment, erasing=0.4, cfg=None, tracker=botsort.yaml, save_dir=C:\\Users\\Cristina\\Documents\\DeteccaoPlantas\\runs\\detect\\treinamento_ervas_final\n",
      "Overriding model.yaml nc=80 with nc=1\n",
      "\n",
      "                   from  n    params  module                                       arguments                     \n",
      "  0                  -1  1       464  ultralytics.nn.modules.conv.Conv             [3, 16, 3, 2]                 \n",
      "  1                  -1  1      4672  ultralytics.nn.modules.conv.Conv             [16, 32, 3, 2]                \n",
      "  2                  -1  1      7360  ultralytics.nn.modules.block.C2f             [32, 32, 1, True]             \n",
      "  3                  -1  1     18560  ultralytics.nn.modules.conv.Conv             [32, 64, 3, 2]                \n",
      "  4                  -1  2     49664  ultralytics.nn.modules.block.C2f             [64, 64, 2, True]             \n",
      "  5                  -1  1     73984  ultralytics.nn.modules.conv.Conv             [64, 128, 3, 2]               \n",
      "  6                  -1  2    197632  ultralytics.nn.modules.block.C2f             [128, 128, 2, True]           \n",
      "  7                  -1  1    295424  ultralytics.nn.modules.conv.Conv             [128, 256, 3, 2]              \n",
      "  8                  -1  1    460288  ultralytics.nn.modules.block.C2f             [256, 256, 1, True]           \n",
      "  9                  -1  1    164608  ultralytics.nn.modules.block.SPPF            [256, 256, 5]                 \n",
      " 10                  -1  1         0  torch.nn.modules.upsampling.Upsample         [None, 2, 'nearest']          \n",
      " 11             [-1, 6]  1         0  ultralytics.nn.modules.conv.Concat           [1]                           \n",
      " 12                  -1  1    148224  ultralytics.nn.modules.block.C2f             [384, 128, 1]                 \n",
      " 13                  -1  1         0  torch.nn.modules.upsampling.Upsample         [None, 2, 'nearest']          \n",
      " 14             [-1, 4]  1         0  ultralytics.nn.modules.conv.Concat           [1]                           \n",
      " 15                  -1  1     37248  ultralytics.nn.modules.block.C2f             [192, 64, 1]                  \n",
      " 16                  -1  1     36992  ultralytics.nn.modules.conv.Conv             [64, 64, 3, 2]                \n",
      " 17            [-1, 12]  1         0  ultralytics.nn.modules.conv.Concat           [1]                           \n",
      " 18                  -1  1    123648  ultralytics.nn.modules.block.C2f             [192, 128, 1]                 \n",
      " 19                  -1  1    147712  ultralytics.nn.modules.conv.Conv             [128, 128, 3, 2]              \n",
      " 20             [-1, 9]  1         0  ultralytics.nn.modules.conv.Concat           [1]                           \n",
      " 21                  -1  1    493056  ultralytics.nn.modules.block.C2f             [384, 256, 1]                 \n",
      " 22        [15, 18, 21]  1    751507  ultralytics.nn.modules.head.Detect           [1, [64, 128, 256]]           \n",
      "Model summary: 129 layers, 3,011,043 parameters, 3,011,027 gradients, 8.2 GFLOPs\n",
      "\n",
      "Transferred 319/355 items from pretrained weights\n",
      "Freezing layer 'model.22.dfl.conv.weight'\n",
      "\u001b[34m\u001b[1mtrain: \u001b[0mFast image access  (ping: 0.10.0 ms, read: 465.3103.6 MB/s, size: 71.4 KB)\n"
     ]
    },
    {
     "name": "stderr",
     "output_type": "stream",
     "text": [
      "\u001b[34m\u001b[1mtrain: \u001b[0mScanning C:\\Users\\Cristina\\Documents\\DeteccaoPlantas\\data\\Weeds\\train\\labels.cache... 3664 images, 0 backgrounds, 0 corrupt: 100%|██████████| 3664/3664 [00:00<?, ?it/s]"
     ]
    },
    {
     "name": "stdout",
     "output_type": "stream",
     "text": [
      "WARNING cache='ram' may produce non-deterministic training results. Consider cache='disk' as a deterministic alternative if your disk space allows.\n"
     ]
    },
    {
     "name": "stderr",
     "output_type": "stream",
     "text": [
      "\n",
      "\u001b[34m\u001b[1mtrain: \u001b[0mCaching images (1.8GB RAM): 100%|██████████| 3664/3664 [00:01<00:00, 2199.99it/s]"
     ]
    },
    {
     "name": "stdout",
     "output_type": "stream",
     "text": [
      "\u001b[34m\u001b[1mval: \u001b[0mFast image access  (ping: 0.00.0 ms, read: 517.2125.3 MB/s, size: 58.8 KB)\n"
     ]
    },
    {
     "name": "stderr",
     "output_type": "stream",
     "text": [
      "\n",
      "c:\\Users\\Cristina\\Documents\\DeteccaoPlantas\\.venv\\Lib\\site-packages\\torch\\utils\\data\\dataloader.py:665: UserWarning: 'pin_memory' argument is set as true but no accelerator is found, then device pinned memory won't be used.\n",
      "  warnings.warn(warn_msg)\n",
      "\u001b[34m\u001b[1mval: \u001b[0mScanning C:\\Users\\Cristina\\Documents\\DeteccaoPlantas\\data\\Weeds\\valid\\labels.cache... 359 images, 0 backgrounds, 0 corrupt: 100%|██████████| 359/359 [00:00<?, ?it/s]"
     ]
    },
    {
     "name": "stdout",
     "output_type": "stream",
     "text": [
      "WARNING cache='ram' may produce non-deterministic training results. Consider cache='disk' as a deterministic alternative if your disk space allows.\n"
     ]
    },
    {
     "name": "stderr",
     "output_type": "stream",
     "text": [
      "\n",
      "\u001b[34m\u001b[1mval: \u001b[0mCaching images (0.2GB RAM): 100%|██████████| 359/359 [00:00<00:00, 2392.94it/s]\n",
      "c:\\Users\\Cristina\\Documents\\DeteccaoPlantas\\.venv\\Lib\\site-packages\\torch\\utils\\data\\dataloader.py:665: UserWarning: 'pin_memory' argument is set as true but no accelerator is found, then device pinned memory won't be used.\n",
      "  warnings.warn(warn_msg)\n"
     ]
    },
    {
     "name": "stdout",
     "output_type": "stream",
     "text": [
      "Plotting labels to C:\\Users\\Cristina\\Documents\\DeteccaoPlantas\\runs\\detect\\treinamento_ervas_final\\labels.jpg... \n",
      "\u001b[34m\u001b[1moptimizer:\u001b[0m 'optimizer=auto' found, ignoring 'lr0=0.01' and 'momentum=0.937' and determining best 'optimizer', 'lr0' and 'momentum' automatically... \n",
      "\u001b[34m\u001b[1moptimizer:\u001b[0m AdamW(lr=0.002, momentum=0.9) with parameter groups 57 weight(decay=0.0), 64 weight(decay=0.0005), 63 bias(decay=0.0)\n",
      "Image sizes 416 train, 416 val\n",
      "Using 0 dataloader workers\n",
      "Logging results to \u001b[1mC:\\Users\\Cristina\\Documents\\DeteccaoPlantas\\runs\\detect\\treinamento_ervas_final\u001b[0m\n",
      "Starting training for 20 epochs...\n",
      "\n",
      "      Epoch    GPU_mem   box_loss   cls_loss   dfl_loss  Instances       Size\n"
     ]
    },
    {
     "name": "stderr",
     "output_type": "stream",
     "text": [
      "       1/20         0G      1.272      1.424       1.36         62        416: 100%|██████████| 458/458 [11:33<00:00,  1.51s/it]\n",
      "                 Class     Images  Instances      Box(P          R      mAP50  mAP50-95): 100%|██████████| 23/23 [00:25<00:00,  1.12s/it]"
     ]
    },
    {
     "name": "stdout",
     "output_type": "stream",
     "text": [
      "                   all        359        920      0.596      0.485      0.482      0.192\n"
     ]
    },
    {
     "name": "stderr",
     "output_type": "stream",
     "text": [
      "\n"
     ]
    },
    {
     "name": "stdout",
     "output_type": "stream",
     "text": [
      "\n",
      "      Epoch    GPU_mem   box_loss   cls_loss   dfl_loss  Instances       Size\n"
     ]
    },
    {
     "name": "stderr",
     "output_type": "stream",
     "text": [
      "       2/20         0G       1.04     0.9132      1.195         34        416: 100%|██████████| 458/458 [11:29<00:00,  1.50s/it]\n",
      "                 Class     Images  Instances      Box(P          R      mAP50  mAP50-95): 100%|██████████| 23/23 [00:24<00:00,  1.05s/it]"
     ]
    },
    {
     "name": "stdout",
     "output_type": "stream",
     "text": [
      "                   all        359        920      0.616      0.527      0.579      0.285\n"
     ]
    },
    {
     "name": "stderr",
     "output_type": "stream",
     "text": [
      "\n"
     ]
    },
    {
     "name": "stdout",
     "output_type": "stream",
     "text": [
      "\n",
      "      Epoch    GPU_mem   box_loss   cls_loss   dfl_loss  Instances       Size\n"
     ]
    },
    {
     "name": "stderr",
     "output_type": "stream",
     "text": [
      "       3/20         0G     0.9671     0.8125      1.154         33        416: 100%|██████████| 458/458 [11:17<00:00,  1.48s/it]\n",
      "                 Class     Images  Instances      Box(P          R      mAP50  mAP50-95): 100%|██████████| 23/23 [00:23<00:00,  1.01s/it]"
     ]
    },
    {
     "name": "stdout",
     "output_type": "stream",
     "text": [
      "                   all        359        920      0.729      0.576      0.647       0.33\n"
     ]
    },
    {
     "name": "stderr",
     "output_type": "stream",
     "text": [
      "\n"
     ]
    },
    {
     "name": "stdout",
     "output_type": "stream",
     "text": [
      "\n",
      "      Epoch    GPU_mem   box_loss   cls_loss   dfl_loss  Instances       Size\n"
     ]
    },
    {
     "name": "stderr",
     "output_type": "stream",
     "text": [
      "       4/20         0G     0.8971     0.7173      1.121         20        416: 100%|██████████| 458/458 [10:57<00:00,  1.44s/it]\n",
      "                 Class     Images  Instances      Box(P          R      mAP50  mAP50-95): 100%|██████████| 23/23 [00:23<00:00,  1.04s/it]"
     ]
    },
    {
     "name": "stdout",
     "output_type": "stream",
     "text": [
      "                   all        359        920      0.758      0.596       0.68      0.343\n"
     ]
    },
    {
     "name": "stderr",
     "output_type": "stream",
     "text": [
      "\n"
     ]
    },
    {
     "name": "stdout",
     "output_type": "stream",
     "text": [
      "\n",
      "      Epoch    GPU_mem   box_loss   cls_loss   dfl_loss  Instances       Size\n"
     ]
    },
    {
     "name": "stderr",
     "output_type": "stream",
     "text": [
      "       5/20         0G     0.8269     0.6537      1.084         30        416: 100%|██████████| 458/458 [10:56<00:00,  1.43s/it]\n",
      "                 Class     Images  Instances      Box(P          R      mAP50  mAP50-95): 100%|██████████| 23/23 [00:23<00:00,  1.00s/it]"
     ]
    },
    {
     "name": "stdout",
     "output_type": "stream",
     "text": [
      "                   all        359        920      0.793       0.63      0.738      0.398\n"
     ]
    },
    {
     "name": "stderr",
     "output_type": "stream",
     "text": [
      "\n"
     ]
    },
    {
     "name": "stdout",
     "output_type": "stream",
     "text": [
      "\n",
      "      Epoch    GPU_mem   box_loss   cls_loss   dfl_loss  Instances       Size\n"
     ]
    },
    {
     "name": "stderr",
     "output_type": "stream",
     "text": [
      "       6/20         0G     0.7696     0.5979      1.059         23        416: 100%|██████████| 458/458 [10:43<00:00,  1.40s/it]\n",
      "                 Class     Images  Instances      Box(P          R      mAP50  mAP50-95): 100%|██████████| 23/23 [00:22<00:00,  1.03it/s]"
     ]
    },
    {
     "name": "stdout",
     "output_type": "stream",
     "text": [
      "                   all        359        920      0.764      0.675      0.749      0.418\n"
     ]
    },
    {
     "name": "stderr",
     "output_type": "stream",
     "text": [
      "\n"
     ]
    },
    {
     "name": "stdout",
     "output_type": "stream",
     "text": [
      "\n",
      "      Epoch    GPU_mem   box_loss   cls_loss   dfl_loss  Instances       Size\n"
     ]
    },
    {
     "name": "stderr",
     "output_type": "stream",
     "text": [
      "       7/20         0G       0.74     0.5772      1.043         35        416: 100%|██████████| 458/458 [12:29<00:00,  1.64s/it]\n",
      "                 Class     Images  Instances      Box(P          R      mAP50  mAP50-95): 100%|██████████| 23/23 [00:28<00:00,  1.26s/it]"
     ]
    },
    {
     "name": "stdout",
     "output_type": "stream",
     "text": [
      "                   all        359        920      0.841      0.652      0.765      0.441\n"
     ]
    },
    {
     "name": "stderr",
     "output_type": "stream",
     "text": [
      "\n"
     ]
    },
    {
     "name": "stdout",
     "output_type": "stream",
     "text": [
      "\n",
      "      Epoch    GPU_mem   box_loss   cls_loss   dfl_loss  Instances       Size\n"
     ]
    },
    {
     "name": "stderr",
     "output_type": "stream",
     "text": [
      "       8/20         0G      0.708     0.5436      1.033         40        416: 100%|██████████| 458/458 [13:31<00:00,  1.77s/it]\n",
      "                 Class     Images  Instances      Box(P          R      mAP50  mAP50-95): 100%|██████████| 23/23 [00:24<00:00,  1.08s/it]"
     ]
    },
    {
     "name": "stdout",
     "output_type": "stream",
     "text": [
      "                   all        359        920      0.799      0.709      0.789      0.464\n"
     ]
    },
    {
     "name": "stderr",
     "output_type": "stream",
     "text": [
      "\n"
     ]
    },
    {
     "name": "stdout",
     "output_type": "stream",
     "text": [
      "\n",
      "      Epoch    GPU_mem   box_loss   cls_loss   dfl_loss  Instances       Size\n"
     ]
    },
    {
     "name": "stderr",
     "output_type": "stream",
     "text": [
      "       9/20         0G     0.6739     0.5122      1.016         26        416: 100%|██████████| 458/458 [20:46<00:00,  2.72s/it]\n",
      "                 Class     Images  Instances      Box(P          R      mAP50  mAP50-95): 100%|██████████| 23/23 [00:24<00:00,  1.08s/it]"
     ]
    },
    {
     "name": "stdout",
     "output_type": "stream",
     "text": [
      "                   all        359        920      0.815      0.707      0.806      0.486\n"
     ]
    },
    {
     "name": "stderr",
     "output_type": "stream",
     "text": [
      "\n"
     ]
    },
    {
     "name": "stdout",
     "output_type": "stream",
     "text": [
      "\n",
      "      Epoch    GPU_mem   box_loss   cls_loss   dfl_loss  Instances       Size\n"
     ]
    },
    {
     "name": "stderr",
     "output_type": "stream",
     "text": [
      "      10/20         0G     0.6407     0.4846      1.001         31        416: 100%|██████████| 458/458 [11:39<00:00,  1.53s/it]\n",
      "                 Class     Images  Instances      Box(P          R      mAP50  mAP50-95): 100%|██████████| 23/23 [00:25<00:00,  1.10s/it]"
     ]
    },
    {
     "name": "stdout",
     "output_type": "stream",
     "text": [
      "                   all        359        920      0.827      0.721       0.83      0.485\n"
     ]
    },
    {
     "name": "stderr",
     "output_type": "stream",
     "text": [
      "\n"
     ]
    },
    {
     "name": "stdout",
     "output_type": "stream",
     "text": [
      "Closing dataloader mosaic\n",
      "\n",
      "      Epoch    GPU_mem   box_loss   cls_loss   dfl_loss  Instances       Size\n"
     ]
    },
    {
     "name": "stderr",
     "output_type": "stream",
     "text": [
      "c:\\Users\\Cristina\\Documents\\DeteccaoPlantas\\.venv\\Lib\\site-packages\\torch\\utils\\data\\dataloader.py:665: UserWarning: 'pin_memory' argument is set as true but no accelerator is found, then device pinned memory won't be used.\n",
      "  warnings.warn(warn_msg)\n",
      "      11/20         0G      1.305     0.9686      1.321         24        416: 100%|██████████| 458/458 [11:44<00:00,  1.54s/it]\n",
      "                 Class     Images  Instances      Box(P          R      mAP50  mAP50-95): 100%|██████████| 23/23 [00:23<00:00,  1.02s/it]"
     ]
    },
    {
     "name": "stdout",
     "output_type": "stream",
     "text": [
      "                   all        359        920      0.829      0.768      0.849      0.541\n"
     ]
    },
    {
     "name": "stderr",
     "output_type": "stream",
     "text": [
      "\n"
     ]
    },
    {
     "name": "stdout",
     "output_type": "stream",
     "text": [
      "\n",
      "      Epoch    GPU_mem   box_loss   cls_loss   dfl_loss  Instances       Size\n"
     ]
    },
    {
     "name": "stderr",
     "output_type": "stream",
     "text": [
      "      12/20         0G      1.211     0.8273      1.248         10        416: 100%|██████████| 458/458 [11:32<00:00,  1.51s/it]\n",
      "                 Class     Images  Instances      Box(P          R      mAP50  mAP50-95): 100%|██████████| 23/23 [00:23<00:00,  1.02s/it]"
     ]
    },
    {
     "name": "stdout",
     "output_type": "stream",
     "text": [
      "                   all        359        920      0.858      0.776      0.876      0.618\n"
     ]
    },
    {
     "name": "stderr",
     "output_type": "stream",
     "text": [
      "\n"
     ]
    },
    {
     "name": "stdout",
     "output_type": "stream",
     "text": [
      "\n",
      "      Epoch    GPU_mem   box_loss   cls_loss   dfl_loss  Instances       Size\n"
     ]
    },
    {
     "name": "stderr",
     "output_type": "stream",
     "text": [
      "      13/20         0G      1.171     0.7663      1.221         29        416: 100%|██████████| 458/458 [11:32<00:00,  1.51s/it]\n",
      "                 Class     Images  Instances      Box(P          R      mAP50  mAP50-95): 100%|██████████| 23/23 [00:22<00:00,  1.01it/s]"
     ]
    },
    {
     "name": "stdout",
     "output_type": "stream",
     "text": [
      "                   all        359        920       0.87      0.808      0.896      0.608\n"
     ]
    },
    {
     "name": "stderr",
     "output_type": "stream",
     "text": [
      "\n"
     ]
    },
    {
     "name": "stdout",
     "output_type": "stream",
     "text": [
      "\n",
      "      Epoch    GPU_mem   box_loss   cls_loss   dfl_loss  Instances       Size\n"
     ]
    },
    {
     "name": "stderr",
     "output_type": "stream",
     "text": [
      "      14/20         0G      1.122     0.7117      1.191         17        416: 100%|██████████| 458/458 [11:06<00:00,  1.45s/it]\n",
      "                 Class     Images  Instances      Box(P          R      mAP50  mAP50-95): 100%|██████████| 23/23 [00:26<00:00,  1.14s/it]"
     ]
    },
    {
     "name": "stdout",
     "output_type": "stream",
     "text": [
      "                   all        359        920      0.871      0.846      0.903      0.623\n"
     ]
    },
    {
     "name": "stderr",
     "output_type": "stream",
     "text": [
      "\n"
     ]
    },
    {
     "name": "stdout",
     "output_type": "stream",
     "text": [
      "\n",
      "      Epoch    GPU_mem   box_loss   cls_loss   dfl_loss  Instances       Size\n"
     ]
    },
    {
     "name": "stderr",
     "output_type": "stream",
     "text": [
      "      15/20         0G      1.093       0.67       1.17         20        416: 100%|██████████| 458/458 [10:51<00:00,  1.42s/it]\n",
      "                 Class     Images  Instances      Box(P          R      mAP50  mAP50-95): 100%|██████████| 23/23 [00:23<00:00,  1.04s/it]"
     ]
    },
    {
     "name": "stdout",
     "output_type": "stream",
     "text": [
      "                   all        359        920       0.87      0.834        0.9      0.641\n"
     ]
    },
    {
     "name": "stderr",
     "output_type": "stream",
     "text": [
      "\n"
     ]
    },
    {
     "name": "stdout",
     "output_type": "stream",
     "text": [
      "\n",
      "      Epoch    GPU_mem   box_loss   cls_loss   dfl_loss  Instances       Size\n"
     ]
    },
    {
     "name": "stderr",
     "output_type": "stream",
     "text": [
      "      16/20         0G      1.078     0.6492      1.158         22        416: 100%|██████████| 458/458 [11:09<00:00,  1.46s/it]\n",
      "                 Class     Images  Instances      Box(P          R      mAP50  mAP50-95): 100%|██████████| 23/23 [00:23<00:00,  1.04s/it]"
     ]
    },
    {
     "name": "stdout",
     "output_type": "stream",
     "text": [
      "                   all        359        920      0.912      0.829      0.924      0.667\n"
     ]
    },
    {
     "name": "stderr",
     "output_type": "stream",
     "text": [
      "\n"
     ]
    },
    {
     "name": "stdout",
     "output_type": "stream",
     "text": [
      "\n",
      "      Epoch    GPU_mem   box_loss   cls_loss   dfl_loss  Instances       Size\n"
     ]
    },
    {
     "name": "stderr",
     "output_type": "stream",
     "text": [
      "      17/20         0G      1.025     0.6079      1.129         30        416: 100%|██████████| 458/458 [11:03<00:00,  1.45s/it]\n",
      "                 Class     Images  Instances      Box(P          R      mAP50  mAP50-95): 100%|██████████| 23/23 [00:24<00:00,  1.05s/it]"
     ]
    },
    {
     "name": "stdout",
     "output_type": "stream",
     "text": [
      "                   all        359        920      0.912      0.856      0.933      0.684\n"
     ]
    },
    {
     "name": "stderr",
     "output_type": "stream",
     "text": [
      "\n"
     ]
    },
    {
     "name": "stdout",
     "output_type": "stream",
     "text": [
      "\n",
      "      Epoch    GPU_mem   box_loss   cls_loss   dfl_loss  Instances       Size\n"
     ]
    },
    {
     "name": "stderr",
     "output_type": "stream",
     "text": [
      "      18/20         0G      1.003     0.5753      1.111         26        416: 100%|██████████| 458/458 [11:05<00:00,  1.45s/it]\n",
      "                 Class     Images  Instances      Box(P          R      mAP50  mAP50-95): 100%|██████████| 23/23 [00:23<00:00,  1.04s/it]"
     ]
    },
    {
     "name": "stdout",
     "output_type": "stream",
     "text": [
      "                   all        359        920      0.887       0.89      0.935      0.681\n"
     ]
    },
    {
     "name": "stderr",
     "output_type": "stream",
     "text": [
      "\n"
     ]
    },
    {
     "name": "stdout",
     "output_type": "stream",
     "text": [
      "\n",
      "      Epoch    GPU_mem   box_loss   cls_loss   dfl_loss  Instances       Size\n"
     ]
    },
    {
     "name": "stderr",
     "output_type": "stream",
     "text": [
      "      19/20         0G     0.9968      0.554      1.102         15        416: 100%|██████████| 458/458 [11:21<00:00,  1.49s/it]\n",
      "                 Class     Images  Instances      Box(P          R      mAP50  mAP50-95): 100%|██████████| 23/23 [00:24<00:00,  1.06s/it]"
     ]
    },
    {
     "name": "stdout",
     "output_type": "stream",
     "text": [
      "                   all        359        920      0.909      0.885      0.942      0.684\n"
     ]
    },
    {
     "name": "stderr",
     "output_type": "stream",
     "text": [
      "\n"
     ]
    },
    {
     "name": "stdout",
     "output_type": "stream",
     "text": [
      "\n",
      "      Epoch    GPU_mem   box_loss   cls_loss   dfl_loss  Instances       Size\n"
     ]
    },
    {
     "name": "stderr",
     "output_type": "stream",
     "text": [
      "      20/20         0G     0.9657     0.5445      1.087         18        416: 100%|██████████| 458/458 [11:22<00:00,  1.49s/it]\n",
      "                 Class     Images  Instances      Box(P          R      mAP50  mAP50-95): 100%|██████████| 23/23 [00:24<00:00,  1.06s/it]"
     ]
    },
    {
     "name": "stdout",
     "output_type": "stream",
     "text": [
      "                   all        359        920        0.9      0.898      0.944      0.705\n"
     ]
    },
    {
     "name": "stderr",
     "output_type": "stream",
     "text": [
      "\n"
     ]
    },
    {
     "name": "stdout",
     "output_type": "stream",
     "text": [
      "\n",
      "20 epochs completed in 4.109 hours.\n",
      "Optimizer stripped from C:\\Users\\Cristina\\Documents\\DeteccaoPlantas\\runs\\detect\\treinamento_ervas_final\\weights\\last.pt, 6.2MB\n",
      "Optimizer stripped from C:\\Users\\Cristina\\Documents\\DeteccaoPlantas\\runs\\detect\\treinamento_ervas_final\\weights\\best.pt, 6.2MB\n",
      "\n",
      "Validating C:\\Users\\Cristina\\Documents\\DeteccaoPlantas\\runs\\detect\\treinamento_ervas_final\\weights\\best.pt...\n",
      "Ultralytics 8.3.119  Python-3.11.0 torch-2.7.0+cpu CPU (Intel Core(TM) i7-8665U 1.90GHz)\n",
      "Model summary (fused): 72 layers, 3,005,843 parameters, 0 gradients, 8.1 GFLOPs\n"
     ]
    },
    {
     "name": "stderr",
     "output_type": "stream",
     "text": [
      "                 Class     Images  Instances      Box(P          R      mAP50  mAP50-95): 100%|██████████| 23/23 [00:22<00:00,  1.05it/s]\n"
     ]
    },
    {
     "name": "stdout",
     "output_type": "stream",
     "text": [
      "                   all        359        920        0.9      0.899      0.944      0.704\n",
      "Speed: 0.8ms preprocess, 53.5ms inference, 0.0ms loss, 1.2ms postprocess per image\n",
      "Results saved to \u001b[1mC:\\Users\\Cristina\\Documents\\DeteccaoPlantas\\runs\\detect\\treinamento_ervas_final\u001b[0m\n"
     ]
    },
    {
     "data": {
      "text/plain": [
       "ultralytics.utils.metrics.DetMetrics object with attributes:\n",
       "\n",
       "ap_class_index: array([0])\n",
       "box: ultralytics.utils.metrics.Metric object\n",
       "confusion_matrix: <ultralytics.utils.metrics.ConfusionMatrix object at 0x0000017399E4D250>\n",
       "curves: ['Precision-Recall(B)', 'F1-Confidence(B)', 'Precision-Confidence(B)', 'Recall-Confidence(B)']\n",
       "curves_results: [[array([          0,    0.001001,    0.002002,    0.003003,    0.004004,    0.005005,    0.006006,    0.007007,    0.008008,    0.009009,     0.01001,    0.011011,    0.012012,    0.013013,    0.014014,    0.015015,    0.016016,    0.017017,    0.018018,    0.019019,     0.02002,    0.021021,    0.022022,    0.023023,\n",
       "          0.024024,    0.025025,    0.026026,    0.027027,    0.028028,    0.029029,     0.03003,    0.031031,    0.032032,    0.033033,    0.034034,    0.035035,    0.036036,    0.037037,    0.038038,    0.039039,     0.04004,    0.041041,    0.042042,    0.043043,    0.044044,    0.045045,    0.046046,    0.047047,\n",
       "          0.048048,    0.049049,     0.05005,    0.051051,    0.052052,    0.053053,    0.054054,    0.055055,    0.056056,    0.057057,    0.058058,    0.059059,     0.06006,    0.061061,    0.062062,    0.063063,    0.064064,    0.065065,    0.066066,    0.067067,    0.068068,    0.069069,     0.07007,    0.071071,\n",
       "          0.072072,    0.073073,    0.074074,    0.075075,    0.076076,    0.077077,    0.078078,    0.079079,     0.08008,    0.081081,    0.082082,    0.083083,    0.084084,    0.085085,    0.086086,    0.087087,    0.088088,    0.089089,     0.09009,    0.091091,    0.092092,    0.093093,    0.094094,    0.095095,\n",
       "          0.096096,    0.097097,    0.098098,    0.099099,      0.1001,      0.1011,      0.1021,      0.1031,      0.1041,     0.10511,     0.10611,     0.10711,     0.10811,     0.10911,     0.11011,     0.11111,     0.11211,     0.11311,     0.11411,     0.11512,     0.11612,     0.11712,     0.11812,     0.11912,\n",
       "           0.12012,     0.12112,     0.12212,     0.12312,     0.12412,     0.12513,     0.12613,     0.12713,     0.12813,     0.12913,     0.13013,     0.13113,     0.13213,     0.13313,     0.13413,     0.13514,     0.13614,     0.13714,     0.13814,     0.13914,     0.14014,     0.14114,     0.14214,     0.14314,\n",
       "           0.14414,     0.14515,     0.14615,     0.14715,     0.14815,     0.14915,     0.15015,     0.15115,     0.15215,     0.15315,     0.15415,     0.15516,     0.15616,     0.15716,     0.15816,     0.15916,     0.16016,     0.16116,     0.16216,     0.16316,     0.16416,     0.16517,     0.16617,     0.16717,\n",
       "           0.16817,     0.16917,     0.17017,     0.17117,     0.17217,     0.17317,     0.17417,     0.17518,     0.17618,     0.17718,     0.17818,     0.17918,     0.18018,     0.18118,     0.18218,     0.18318,     0.18418,     0.18519,     0.18619,     0.18719,     0.18819,     0.18919,     0.19019,     0.19119,\n",
       "           0.19219,     0.19319,     0.19419,      0.1952,      0.1962,      0.1972,      0.1982,      0.1992,      0.2002,      0.2012,      0.2022,      0.2032,      0.2042,     0.20521,     0.20621,     0.20721,     0.20821,     0.20921,     0.21021,     0.21121,     0.21221,     0.21321,     0.21421,     0.21522,\n",
       "           0.21622,     0.21722,     0.21822,     0.21922,     0.22022,     0.22122,     0.22222,     0.22322,     0.22422,     0.22523,     0.22623,     0.22723,     0.22823,     0.22923,     0.23023,     0.23123,     0.23223,     0.23323,     0.23423,     0.23524,     0.23624,     0.23724,     0.23824,     0.23924,\n",
       "           0.24024,     0.24124,     0.24224,     0.24324,     0.24424,     0.24525,     0.24625,     0.24725,     0.24825,     0.24925,     0.25025,     0.25125,     0.25225,     0.25325,     0.25425,     0.25526,     0.25626,     0.25726,     0.25826,     0.25926,     0.26026,     0.26126,     0.26226,     0.26326,\n",
       "           0.26426,     0.26527,     0.26627,     0.26727,     0.26827,     0.26927,     0.27027,     0.27127,     0.27227,     0.27327,     0.27427,     0.27528,     0.27628,     0.27728,     0.27828,     0.27928,     0.28028,     0.28128,     0.28228,     0.28328,     0.28428,     0.28529,     0.28629,     0.28729,\n",
       "           0.28829,     0.28929,     0.29029,     0.29129,     0.29229,     0.29329,     0.29429,      0.2953,      0.2963,      0.2973,      0.2983,      0.2993,      0.3003,      0.3013,      0.3023,      0.3033,      0.3043,     0.30531,     0.30631,     0.30731,     0.30831,     0.30931,     0.31031,     0.31131,\n",
       "           0.31231,     0.31331,     0.31431,     0.31532,     0.31632,     0.31732,     0.31832,     0.31932,     0.32032,     0.32132,     0.32232,     0.32332,     0.32432,     0.32533,     0.32633,     0.32733,     0.32833,     0.32933,     0.33033,     0.33133,     0.33233,     0.33333,     0.33433,     0.33534,\n",
       "           0.33634,     0.33734,     0.33834,     0.33934,     0.34034,     0.34134,     0.34234,     0.34334,     0.34434,     0.34535,     0.34635,     0.34735,     0.34835,     0.34935,     0.35035,     0.35135,     0.35235,     0.35335,     0.35435,     0.35536,     0.35636,     0.35736,     0.35836,     0.35936,\n",
       "           0.36036,     0.36136,     0.36236,     0.36336,     0.36436,     0.36537,     0.36637,     0.36737,     0.36837,     0.36937,     0.37037,     0.37137,     0.37237,     0.37337,     0.37437,     0.37538,     0.37638,     0.37738,     0.37838,     0.37938,     0.38038,     0.38138,     0.38238,     0.38338,\n",
       "           0.38438,     0.38539,     0.38639,     0.38739,     0.38839,     0.38939,     0.39039,     0.39139,     0.39239,     0.39339,     0.39439,      0.3954,      0.3964,      0.3974,      0.3984,      0.3994,      0.4004,      0.4014,      0.4024,      0.4034,      0.4044,     0.40541,     0.40641,     0.40741,\n",
       "           0.40841,     0.40941,     0.41041,     0.41141,     0.41241,     0.41341,     0.41441,     0.41542,     0.41642,     0.41742,     0.41842,     0.41942,     0.42042,     0.42142,     0.42242,     0.42342,     0.42442,     0.42543,     0.42643,     0.42743,     0.42843,     0.42943,     0.43043,     0.43143,\n",
       "           0.43243,     0.43343,     0.43443,     0.43544,     0.43644,     0.43744,     0.43844,     0.43944,     0.44044,     0.44144,     0.44244,     0.44344,     0.44444,     0.44545,     0.44645,     0.44745,     0.44845,     0.44945,     0.45045,     0.45145,     0.45245,     0.45345,     0.45445,     0.45546,\n",
       "           0.45646,     0.45746,     0.45846,     0.45946,     0.46046,     0.46146,     0.46246,     0.46346,     0.46446,     0.46547,     0.46647,     0.46747,     0.46847,     0.46947,     0.47047,     0.47147,     0.47247,     0.47347,     0.47447,     0.47548,     0.47648,     0.47748,     0.47848,     0.47948,\n",
       "           0.48048,     0.48148,     0.48248,     0.48348,     0.48448,     0.48549,     0.48649,     0.48749,     0.48849,     0.48949,     0.49049,     0.49149,     0.49249,     0.49349,     0.49449,      0.4955,      0.4965,      0.4975,      0.4985,      0.4995,      0.5005,      0.5015,      0.5025,      0.5035,\n",
       "            0.5045,     0.50551,     0.50651,     0.50751,     0.50851,     0.50951,     0.51051,     0.51151,     0.51251,     0.51351,     0.51451,     0.51552,     0.51652,     0.51752,     0.51852,     0.51952,     0.52052,     0.52152,     0.52252,     0.52352,     0.52452,     0.52553,     0.52653,     0.52753,\n",
       "           0.52853,     0.52953,     0.53053,     0.53153,     0.53253,     0.53353,     0.53453,     0.53554,     0.53654,     0.53754,     0.53854,     0.53954,     0.54054,     0.54154,     0.54254,     0.54354,     0.54454,     0.54555,     0.54655,     0.54755,     0.54855,     0.54955,     0.55055,     0.55155,\n",
       "           0.55255,     0.55355,     0.55455,     0.55556,     0.55656,     0.55756,     0.55856,     0.55956,     0.56056,     0.56156,     0.56256,     0.56356,     0.56456,     0.56557,     0.56657,     0.56757,     0.56857,     0.56957,     0.57057,     0.57157,     0.57257,     0.57357,     0.57457,     0.57558,\n",
       "           0.57658,     0.57758,     0.57858,     0.57958,     0.58058,     0.58158,     0.58258,     0.58358,     0.58458,     0.58559,     0.58659,     0.58759,     0.58859,     0.58959,     0.59059,     0.59159,     0.59259,     0.59359,     0.59459,      0.5956,      0.5966,      0.5976,      0.5986,      0.5996,\n",
       "            0.6006,      0.6016,      0.6026,      0.6036,      0.6046,     0.60561,     0.60661,     0.60761,     0.60861,     0.60961,     0.61061,     0.61161,     0.61261,     0.61361,     0.61461,     0.61562,     0.61662,     0.61762,     0.61862,     0.61962,     0.62062,     0.62162,     0.62262,     0.62362,\n",
       "           0.62462,     0.62563,     0.62663,     0.62763,     0.62863,     0.62963,     0.63063,     0.63163,     0.63263,     0.63363,     0.63463,     0.63564,     0.63664,     0.63764,     0.63864,     0.63964,     0.64064,     0.64164,     0.64264,     0.64364,     0.64464,     0.64565,     0.64665,     0.64765,\n",
       "           0.64865,     0.64965,     0.65065,     0.65165,     0.65265,     0.65365,     0.65465,     0.65566,     0.65666,     0.65766,     0.65866,     0.65966,     0.66066,     0.66166,     0.66266,     0.66366,     0.66466,     0.66567,     0.66667,     0.66767,     0.66867,     0.66967,     0.67067,     0.67167,\n",
       "           0.67267,     0.67367,     0.67467,     0.67568,     0.67668,     0.67768,     0.67868,     0.67968,     0.68068,     0.68168,     0.68268,     0.68368,     0.68468,     0.68569,     0.68669,     0.68769,     0.68869,     0.68969,     0.69069,     0.69169,     0.69269,     0.69369,     0.69469,      0.6957,\n",
       "            0.6967,      0.6977,      0.6987,      0.6997,      0.7007,      0.7017,      0.7027,      0.7037,      0.7047,     0.70571,     0.70671,     0.70771,     0.70871,     0.70971,     0.71071,     0.71171,     0.71271,     0.71371,     0.71471,     0.71572,     0.71672,     0.71772,     0.71872,     0.71972,\n",
       "           0.72072,     0.72172,     0.72272,     0.72372,     0.72472,     0.72573,     0.72673,     0.72773,     0.72873,     0.72973,     0.73073,     0.73173,     0.73273,     0.73373,     0.73473,     0.73574,     0.73674,     0.73774,     0.73874,     0.73974,     0.74074,     0.74174,     0.74274,     0.74374,\n",
       "           0.74474,     0.74575,     0.74675,     0.74775,     0.74875,     0.74975,     0.75075,     0.75175,     0.75275,     0.75375,     0.75475,     0.75576,     0.75676,     0.75776,     0.75876,     0.75976,     0.76076,     0.76176,     0.76276,     0.76376,     0.76476,     0.76577,     0.76677,     0.76777,\n",
       "           0.76877,     0.76977,     0.77077,     0.77177,     0.77277,     0.77377,     0.77477,     0.77578,     0.77678,     0.77778,     0.77878,     0.77978,     0.78078,     0.78178,     0.78278,     0.78378,     0.78478,     0.78579,     0.78679,     0.78779,     0.78879,     0.78979,     0.79079,     0.79179,\n",
       "           0.79279,     0.79379,     0.79479,      0.7958,      0.7968,      0.7978,      0.7988,      0.7998,      0.8008,      0.8018,      0.8028,      0.8038,      0.8048,     0.80581,     0.80681,     0.80781,     0.80881,     0.80981,     0.81081,     0.81181,     0.81281,     0.81381,     0.81481,     0.81582,\n",
       "           0.81682,     0.81782,     0.81882,     0.81982,     0.82082,     0.82182,     0.82282,     0.82382,     0.82482,     0.82583,     0.82683,     0.82783,     0.82883,     0.82983,     0.83083,     0.83183,     0.83283,     0.83383,     0.83483,     0.83584,     0.83684,     0.83784,     0.83884,     0.83984,\n",
       "           0.84084,     0.84184,     0.84284,     0.84384,     0.84484,     0.84585,     0.84685,     0.84785,     0.84885,     0.84985,     0.85085,     0.85185,     0.85285,     0.85385,     0.85485,     0.85586,     0.85686,     0.85786,     0.85886,     0.85986,     0.86086,     0.86186,     0.86286,     0.86386,\n",
       "           0.86486,     0.86587,     0.86687,     0.86787,     0.86887,     0.86987,     0.87087,     0.87187,     0.87287,     0.87387,     0.87487,     0.87588,     0.87688,     0.87788,     0.87888,     0.87988,     0.88088,     0.88188,     0.88288,     0.88388,     0.88488,     0.88589,     0.88689,     0.88789,\n",
       "           0.88889,     0.88989,     0.89089,     0.89189,     0.89289,     0.89389,     0.89489,      0.8959,      0.8969,      0.8979,      0.8989,      0.8999,      0.9009,      0.9019,      0.9029,      0.9039,      0.9049,     0.90591,     0.90691,     0.90791,     0.90891,     0.90991,     0.91091,     0.91191,\n",
       "           0.91291,     0.91391,     0.91491,     0.91592,     0.91692,     0.91792,     0.91892,     0.91992,     0.92092,     0.92192,     0.92292,     0.92392,     0.92492,     0.92593,     0.92693,     0.92793,     0.92893,     0.92993,     0.93093,     0.93193,     0.93293,     0.93393,     0.93493,     0.93594,\n",
       "           0.93694,     0.93794,     0.93894,     0.93994,     0.94094,     0.94194,     0.94294,     0.94394,     0.94494,     0.94595,     0.94695,     0.94795,     0.94895,     0.94995,     0.95095,     0.95195,     0.95295,     0.95395,     0.95495,     0.95596,     0.95696,     0.95796,     0.95896,     0.95996,\n",
       "           0.96096,     0.96196,     0.96296,     0.96396,     0.96496,     0.96597,     0.96697,     0.96797,     0.96897,     0.96997,     0.97097,     0.97197,     0.97297,     0.97397,     0.97497,     0.97598,     0.97698,     0.97798,     0.97898,     0.97998,     0.98098,     0.98198,     0.98298,     0.98398,\n",
       "           0.98498,     0.98599,     0.98699,     0.98799,     0.98899,     0.98999,     0.99099,     0.99199,     0.99299,     0.99399,     0.99499,       0.996,       0.997,       0.998,       0.999,           1]), array([[          1,           1,           1,           1,           1,           1,           1,           1,           1,           1,           1,           1,           1,           1,           1,           1,           1,           1,           1,           1,           1,           1,           1,\n",
       "                  1,           1,           1,           1,           1,           1,           1,           1,           1,     0.98925,     0.98925,     0.98925,     0.98925,     0.98925,     0.98925,     0.98925,     0.98925,     0.98925,     0.98925,     0.98925,     0.98925,     0.98925,     0.98925,\n",
       "            0.98925,     0.98925,     0.98925,     0.98925,     0.98925,     0.98925,     0.98925,     0.98925,     0.98925,     0.98925,     0.98925,     0.98925,     0.98925,     0.98925,     0.98925,     0.98925,     0.98925,     0.98925,     0.98925,     0.98925,     0.98925,     0.98925,     0.98925,\n",
       "            0.98925,     0.98925,     0.98925,     0.98925,     0.98925,     0.98925,     0.98925,     0.98925,     0.98925,     0.98925,     0.98925,     0.98925,     0.98925,     0.98925,     0.98925,     0.98925,     0.98925,     0.98925,     0.98925,     0.98925,     0.98925,     0.98925,     0.98925,\n",
       "            0.98925,     0.98925,     0.98925,     0.98925,     0.98925,     0.98925,     0.98925,     0.98925,     0.98913,     0.98913,     0.98913,     0.98913,     0.98913,     0.98913,     0.98913,     0.98913,     0.98913,     0.98913,     0.98913,     0.98913,     0.98913,     0.98913,     0.98913,\n",
       "            0.98913,     0.98913,     0.98913,     0.98913,     0.98913,     0.98913,     0.98913,     0.98913,     0.98913,     0.98913,     0.98913,     0.98913,     0.98913,     0.98913,     0.98913,     0.98913,     0.98913,     0.98913,     0.98913,     0.98913,     0.98913,     0.98913,     0.98913,\n",
       "            0.98913,     0.98913,     0.98913,     0.98913,     0.98913,     0.98913,     0.98913,     0.98913,     0.98913,     0.98913,     0.98913,     0.98913,     0.98913,     0.98913,     0.98913,     0.98913,     0.98913,     0.98913,     0.98913,     0.98913,     0.98913,     0.98913,     0.98913,\n",
       "            0.98913,     0.98913,     0.98913,     0.98913,     0.98913,     0.98913,     0.98913,     0.98913,     0.98913,     0.98913,     0.98913,     0.98913,     0.98913,     0.98913,     0.98913,     0.98913,     0.98913,     0.98913,     0.98913,     0.98913,     0.98913,     0.98913,     0.98913,\n",
       "            0.98913,     0.98913,     0.98913,     0.98913,     0.98913,     0.98913,     0.98913,     0.98913,     0.98913,     0.98913,     0.98913,     0.98913,     0.98913,     0.98913,     0.98913,     0.98913,     0.98913,     0.98913,     0.98913,     0.98913,     0.98913,     0.98913,     0.98913,\n",
       "            0.98913,     0.98913,     0.98913,     0.98913,     0.98913,     0.98913,     0.98913,     0.98913,     0.98913,     0.98913,     0.98913,     0.98913,     0.98913,     0.98913,     0.98913,     0.98913,     0.98913,     0.98913,     0.98913,     0.98913,     0.98913,     0.98913,     0.98913,\n",
       "            0.98913,     0.98913,     0.98913,     0.98913,     0.98913,     0.98913,     0.98913,     0.98913,     0.98913,     0.98913,     0.98913,     0.98913,     0.98913,     0.98913,     0.98913,     0.98913,     0.98913,     0.98913,     0.98913,     0.98913,     0.98913,     0.98913,     0.98913,\n",
       "            0.98913,     0.98913,     0.98913,     0.98913,     0.98913,     0.98913,     0.98913,     0.98913,     0.98913,     0.98913,     0.98913,     0.98913,     0.98913,     0.98913,     0.98913,     0.98913,     0.98913,     0.98913,     0.98913,     0.98913,     0.98913,     0.98913,     0.98913,\n",
       "            0.98913,     0.98913,     0.98913,     0.98913,     0.98913,     0.98913,     0.98913,     0.98913,     0.98913,     0.98913,     0.98913,     0.98913,     0.98913,     0.98913,     0.98913,     0.98913,     0.98913,     0.98913,     0.98913,     0.98913,     0.98913,     0.98883,     0.98883,\n",
       "            0.98883,     0.98883,     0.98883,     0.98883,     0.98883,     0.98883,     0.98883,     0.98883,     0.98883,     0.98883,     0.98883,     0.98883,     0.98883,     0.98883,     0.98883,     0.98883,     0.98883,     0.98883,     0.98883,     0.98883,     0.98883,     0.98883,     0.98883,\n",
       "            0.98883,     0.98883,     0.98883,     0.98883,     0.98883,     0.98883,     0.98883,     0.98883,     0.98883,     0.98883,     0.98883,     0.98883,     0.98883,     0.98883,     0.98883,     0.98883,     0.98883,     0.98883,     0.98883,     0.98883,     0.98883,     0.98883,     0.98883,\n",
       "            0.98883,     0.98883,     0.98883,     0.98883,     0.98883,     0.98883,     0.98883,     0.98883,     0.98883,     0.98883,     0.98883,     0.98883,     0.98883,     0.98883,     0.98883,     0.98883,     0.98883,     0.98883,     0.98883,     0.98883,     0.98883,     0.98883,     0.98883,\n",
       "            0.98883,     0.98883,     0.98883,     0.98883,     0.98883,     0.98883,     0.98883,     0.98883,     0.98883,     0.98883,     0.98883,     0.98883,     0.98883,     0.98883,     0.98883,     0.98883,     0.98883,     0.98667,     0.98667,     0.98667,     0.98667,     0.98667,     0.98667,\n",
       "            0.98667,     0.98667,     0.98667,     0.98667,     0.98667,     0.98667,     0.98667,     0.98667,     0.98667,     0.98667,     0.98667,     0.98569,     0.98569,     0.98569,     0.98569,     0.98569,     0.98569,     0.98569,     0.98569,     0.98569,     0.98569,     0.98569,     0.98569,\n",
       "            0.98569,     0.98569,     0.98569,     0.98569,     0.98569,     0.98569,     0.98569,     0.98569,     0.98569,     0.98569,     0.98569,     0.98569,     0.98569,     0.98569,     0.98569,     0.98569,     0.98569,     0.98569,     0.98569,     0.98569,     0.98569,     0.98569,     0.98569,\n",
       "            0.98569,     0.98569,     0.98569,     0.98569,     0.98569,     0.98569,     0.98569,     0.98569,     0.98569,     0.98569,     0.98569,     0.98569,     0.98569,     0.98569,     0.98569,     0.98569,     0.98569,     0.98569,     0.98569,     0.98569,     0.98569,     0.98569,     0.98569,\n",
       "            0.98569,     0.98569,     0.98569,     0.98569,     0.98569,     0.98569,     0.98569,     0.98569,     0.98569,     0.98569,     0.98569,     0.98569,     0.98569,     0.98569,     0.98569,     0.98569,     0.98569,     0.98569,     0.98569,     0.98569,     0.98569,     0.98569,     0.98569,\n",
       "            0.98569,     0.98569,     0.98569,     0.98569,     0.98569,     0.98569,     0.98569,     0.98569,     0.98569,     0.98569,     0.98569,     0.98569,     0.98569,     0.98569,     0.98569,     0.98569,     0.98569,     0.98569,     0.98569,     0.98569,     0.98569,     0.98569,     0.98569,\n",
       "            0.98569,     0.98569,     0.98569,     0.98569,     0.98569,     0.98569,     0.98569,     0.98569,     0.98569,     0.98569,     0.98569,     0.98569,     0.98569,     0.98569,     0.98569,     0.98569,     0.98569,     0.98569,     0.98381,     0.98381,     0.98381,     0.98381,     0.98228,\n",
       "            0.98228,     0.98228,     0.98228,     0.98228,     0.98228,     0.98228,     0.98228,     0.98228,     0.98228,     0.98228,     0.98228,     0.98228,     0.98228,     0.98185,     0.98185,     0.98185,     0.98185,     0.98185,     0.98185,     0.98185,     0.98185,     0.98185,     0.98185,\n",
       "            0.98185,     0.98185,     0.98185,     0.98185,     0.98185,     0.98185,     0.98185,     0.98185,     0.98185,     0.98185,     0.98185,     0.98185,     0.98185,     0.98185,     0.98185,     0.98185,     0.98185,     0.98185,     0.98185,     0.98185,     0.98185,     0.98185,     0.98185,\n",
       "            0.98185,     0.98185,     0.98185,     0.98185,     0.98185,     0.98185,     0.98185,     0.98185,     0.98185,     0.98185,     0.98185,     0.98185,     0.98185,     0.98136,     0.98136,     0.98136,     0.98136,     0.98136,     0.98136,     0.98136,     0.98136,     0.98136,     0.98136,\n",
       "            0.98136,     0.98136,     0.98136,     0.98136,     0.98136,     0.98136,     0.98136,     0.98136,     0.98136,     0.98136,     0.98136,     0.98136,     0.98136,     0.98136,     0.98136,     0.98136,     0.98136,     0.98136,     0.98136,     0.98136,     0.98136,     0.98136,     0.98136,\n",
       "            0.98136,     0.98136,     0.98136,     0.98136,     0.98136,     0.98136,     0.98136,     0.98136,     0.98042,     0.98042,     0.98042,     0.98042,     0.98042,     0.98042,     0.98042,     0.98042,     0.98042,     0.98042,     0.98042,     0.98042,     0.98042,     0.98042,     0.98042,\n",
       "            0.98042,     0.98042,     0.98042,     0.98042,     0.98042,     0.98042,     0.98042,     0.98042,     0.98042,     0.97893,     0.97893,     0.97893,      0.9776,      0.9776,      0.9776,      0.9776,      0.9776,      0.9776,      0.9776,      0.9776,     0.97649,     0.97649,     0.97649,\n",
       "            0.97649,     0.97649,     0.97649,     0.97649,     0.97649,     0.97649,     0.97649,     0.97649,     0.97649,     0.97649,     0.97538,     0.97538,     0.97538,     0.97538,     0.97538,     0.97538,     0.97538,     0.97538,     0.97538,     0.97538,     0.97538,     0.97538,     0.97451,\n",
       "            0.97451,     0.97451,     0.97451,     0.97451,     0.97451,     0.97451,     0.97451,     0.97451,     0.97451,     0.97451,     0.97451,     0.97451,     0.97451,     0.97451,     0.97451,     0.97451,     0.97361,     0.97361,     0.97361,     0.97361,     0.97361,     0.97361,     0.97361,\n",
       "            0.97361,     0.97361,     0.97361,     0.97361,     0.97361,     0.97361,     0.97361,     0.97361,     0.97361,      0.9723,      0.9723,      0.9723,     0.97106,     0.97106,     0.97106,     0.97106,     0.96866,     0.96866,     0.96866,     0.96866,     0.96866,     0.96866,     0.96866,\n",
       "            0.96866,     0.96866,     0.96866,     0.96756,     0.96756,     0.96756,     0.96756,     0.96756,     0.96756,     0.96643,     0.96643,     0.96643,     0.96643,     0.96643,     0.96643,     0.96513,     0.96394,     0.96394,     0.96394,     0.96317,     0.96317,     0.96317,     0.96317,\n",
       "            0.96317,     0.96317,     0.96317,     0.96317,     0.96317,     0.96317,     0.96317,     0.96317,     0.96242,     0.96242,     0.96242,     0.96242,     0.96242,     0.96242,     0.96242,     0.96242,     0.96242,     0.96242,     0.96242,     0.96242,     0.96149,     0.96149,     0.96149,\n",
       "            0.96149,     0.96149,     0.96149,     0.96149,     0.96149,     0.95773,      0.9555,      0.9555,      0.9555,      0.9555,      0.9555,     0.95472,     0.95472,     0.95472,     0.95472,     0.95472,     0.95472,     0.95472,     0.95472,     0.95472,     0.95361,     0.95361,     0.95122,\n",
       "            0.95006,     0.94937,     0.94937,     0.94937,     0.94937,     0.94937,     0.94937,     0.94937,     0.94937,     0.94937,      0.9473,      0.9473,      0.9473,      0.9473,      0.9473,     0.94618,     0.94507,     0.94507,     0.94424,     0.94424,     0.94424,     0.94424,     0.94424,\n",
       "            0.94198,     0.94096,     0.94096,     0.93988,     0.93659,     0.93659,     0.93552,     0.93552,     0.93333,     0.93261,     0.93261,     0.93261,     0.93261,     0.93261,     0.93165,     0.93165,      0.9307,      0.9307,     0.92976,     0.92976,     0.92976,     0.92899,     0.92899,\n",
       "            0.92899,     0.92899,     0.92798,     0.92497,     0.92497,     0.92497,     0.92407,     0.92407,     0.92308,     0.92308,     0.92227,     0.92227,     0.92227,     0.91963,     0.91963,     0.91963,     0.91963,     0.91963,     0.91963,     0.91867,     0.91676,     0.91676,     0.91676,\n",
       "            0.91619,     0.91619,     0.91619,     0.91619,     0.91619,     0.91319,     0.91285,     0.91285,     0.91285,     0.91285,     0.91285,     0.91285,     0.91285,     0.91285,     0.91091,      0.9102,      0.9102,      0.9102,     0.90829,     0.90639,     0.90164,     0.90164,     0.89989,\n",
       "            0.89989,     0.89989,     0.89332,     0.89332,     0.89247,     0.89103,     0.89103,     0.89103,     0.89103,     0.88689,     0.88689,     0.88689,     0.88689,     0.88689,     0.88689,     0.88143,     0.87696,     0.87435,     0.86907,     0.86653,     0.86503,     0.86503,     0.86429,\n",
       "            0.86179,     0.86105,     0.86032,     0.85786,     0.85786,     0.85385,     0.85385,     0.85145,      0.8457,     0.84283,     0.84283,     0.84283,     0.83887,     0.83576,     0.83269,     0.83077,     0.83077,     0.83077,     0.83077,     0.83013,      0.8218,      0.8218,     0.81733,\n",
       "            0.79798,     0.78876,       0.787,       0.787,      0.7712,     0.77072,     0.77072,     0.75692,     0.75582,     0.75494,     0.75494,        0.75,     0.73173,     0.73173,     0.71707,     0.71152,      0.7089,     0.70462,     0.69874,     0.69874,     0.69843,     0.64208,     0.59906,\n",
       "            0.57015,     0.56286,     0.55335,     0.54853,     0.53025,     0.51884,      0.4696,     0.45372,     0.45372,     0.41306,     0.40278,     0.35785,     0.31748,     0.31136,     0.29822,     0.23468,       0.194,     0.19318,     0.18454,     0.18362,     0.18334,     0.18334,      0.1657,\n",
       "             0.1565,     0.13235,     0.13137,     0.08126,    0.069652,    0.058043,    0.046434,    0.034826,    0.023217,    0.011609,           0]]), 'Recall', 'Precision'], [array([          0,    0.001001,    0.002002,    0.003003,    0.004004,    0.005005,    0.006006,    0.007007,    0.008008,    0.009009,     0.01001,    0.011011,    0.012012,    0.013013,    0.014014,    0.015015,    0.016016,    0.017017,    0.018018,    0.019019,     0.02002,    0.021021,    0.022022,    0.023023,\n",
       "          0.024024,    0.025025,    0.026026,    0.027027,    0.028028,    0.029029,     0.03003,    0.031031,    0.032032,    0.033033,    0.034034,    0.035035,    0.036036,    0.037037,    0.038038,    0.039039,     0.04004,    0.041041,    0.042042,    0.043043,    0.044044,    0.045045,    0.046046,    0.047047,\n",
       "          0.048048,    0.049049,     0.05005,    0.051051,    0.052052,    0.053053,    0.054054,    0.055055,    0.056056,    0.057057,    0.058058,    0.059059,     0.06006,    0.061061,    0.062062,    0.063063,    0.064064,    0.065065,    0.066066,    0.067067,    0.068068,    0.069069,     0.07007,    0.071071,\n",
       "          0.072072,    0.073073,    0.074074,    0.075075,    0.076076,    0.077077,    0.078078,    0.079079,     0.08008,    0.081081,    0.082082,    0.083083,    0.084084,    0.085085,    0.086086,    0.087087,    0.088088,    0.089089,     0.09009,    0.091091,    0.092092,    0.093093,    0.094094,    0.095095,\n",
       "          0.096096,    0.097097,    0.098098,    0.099099,      0.1001,      0.1011,      0.1021,      0.1031,      0.1041,     0.10511,     0.10611,     0.10711,     0.10811,     0.10911,     0.11011,     0.11111,     0.11211,     0.11311,     0.11411,     0.11512,     0.11612,     0.11712,     0.11812,     0.11912,\n",
       "           0.12012,     0.12112,     0.12212,     0.12312,     0.12412,     0.12513,     0.12613,     0.12713,     0.12813,     0.12913,     0.13013,     0.13113,     0.13213,     0.13313,     0.13413,     0.13514,     0.13614,     0.13714,     0.13814,     0.13914,     0.14014,     0.14114,     0.14214,     0.14314,\n",
       "           0.14414,     0.14515,     0.14615,     0.14715,     0.14815,     0.14915,     0.15015,     0.15115,     0.15215,     0.15315,     0.15415,     0.15516,     0.15616,     0.15716,     0.15816,     0.15916,     0.16016,     0.16116,     0.16216,     0.16316,     0.16416,     0.16517,     0.16617,     0.16717,\n",
       "           0.16817,     0.16917,     0.17017,     0.17117,     0.17217,     0.17317,     0.17417,     0.17518,     0.17618,     0.17718,     0.17818,     0.17918,     0.18018,     0.18118,     0.18218,     0.18318,     0.18418,     0.18519,     0.18619,     0.18719,     0.18819,     0.18919,     0.19019,     0.19119,\n",
       "           0.19219,     0.19319,     0.19419,      0.1952,      0.1962,      0.1972,      0.1982,      0.1992,      0.2002,      0.2012,      0.2022,      0.2032,      0.2042,     0.20521,     0.20621,     0.20721,     0.20821,     0.20921,     0.21021,     0.21121,     0.21221,     0.21321,     0.21421,     0.21522,\n",
       "           0.21622,     0.21722,     0.21822,     0.21922,     0.22022,     0.22122,     0.22222,     0.22322,     0.22422,     0.22523,     0.22623,     0.22723,     0.22823,     0.22923,     0.23023,     0.23123,     0.23223,     0.23323,     0.23423,     0.23524,     0.23624,     0.23724,     0.23824,     0.23924,\n",
       "           0.24024,     0.24124,     0.24224,     0.24324,     0.24424,     0.24525,     0.24625,     0.24725,     0.24825,     0.24925,     0.25025,     0.25125,     0.25225,     0.25325,     0.25425,     0.25526,     0.25626,     0.25726,     0.25826,     0.25926,     0.26026,     0.26126,     0.26226,     0.26326,\n",
       "           0.26426,     0.26527,     0.26627,     0.26727,     0.26827,     0.26927,     0.27027,     0.27127,     0.27227,     0.27327,     0.27427,     0.27528,     0.27628,     0.27728,     0.27828,     0.27928,     0.28028,     0.28128,     0.28228,     0.28328,     0.28428,     0.28529,     0.28629,     0.28729,\n",
       "           0.28829,     0.28929,     0.29029,     0.29129,     0.29229,     0.29329,     0.29429,      0.2953,      0.2963,      0.2973,      0.2983,      0.2993,      0.3003,      0.3013,      0.3023,      0.3033,      0.3043,     0.30531,     0.30631,     0.30731,     0.30831,     0.30931,     0.31031,     0.31131,\n",
       "           0.31231,     0.31331,     0.31431,     0.31532,     0.31632,     0.31732,     0.31832,     0.31932,     0.32032,     0.32132,     0.32232,     0.32332,     0.32432,     0.32533,     0.32633,     0.32733,     0.32833,     0.32933,     0.33033,     0.33133,     0.33233,     0.33333,     0.33433,     0.33534,\n",
       "           0.33634,     0.33734,     0.33834,     0.33934,     0.34034,     0.34134,     0.34234,     0.34334,     0.34434,     0.34535,     0.34635,     0.34735,     0.34835,     0.34935,     0.35035,     0.35135,     0.35235,     0.35335,     0.35435,     0.35536,     0.35636,     0.35736,     0.35836,     0.35936,\n",
       "           0.36036,     0.36136,     0.36236,     0.36336,     0.36436,     0.36537,     0.36637,     0.36737,     0.36837,     0.36937,     0.37037,     0.37137,     0.37237,     0.37337,     0.37437,     0.37538,     0.37638,     0.37738,     0.37838,     0.37938,     0.38038,     0.38138,     0.38238,     0.38338,\n",
       "           0.38438,     0.38539,     0.38639,     0.38739,     0.38839,     0.38939,     0.39039,     0.39139,     0.39239,     0.39339,     0.39439,      0.3954,      0.3964,      0.3974,      0.3984,      0.3994,      0.4004,      0.4014,      0.4024,      0.4034,      0.4044,     0.40541,     0.40641,     0.40741,\n",
       "           0.40841,     0.40941,     0.41041,     0.41141,     0.41241,     0.41341,     0.41441,     0.41542,     0.41642,     0.41742,     0.41842,     0.41942,     0.42042,     0.42142,     0.42242,     0.42342,     0.42442,     0.42543,     0.42643,     0.42743,     0.42843,     0.42943,     0.43043,     0.43143,\n",
       "           0.43243,     0.43343,     0.43443,     0.43544,     0.43644,     0.43744,     0.43844,     0.43944,     0.44044,     0.44144,     0.44244,     0.44344,     0.44444,     0.44545,     0.44645,     0.44745,     0.44845,     0.44945,     0.45045,     0.45145,     0.45245,     0.45345,     0.45445,     0.45546,\n",
       "           0.45646,     0.45746,     0.45846,     0.45946,     0.46046,     0.46146,     0.46246,     0.46346,     0.46446,     0.46547,     0.46647,     0.46747,     0.46847,     0.46947,     0.47047,     0.47147,     0.47247,     0.47347,     0.47447,     0.47548,     0.47648,     0.47748,     0.47848,     0.47948,\n",
       "           0.48048,     0.48148,     0.48248,     0.48348,     0.48448,     0.48549,     0.48649,     0.48749,     0.48849,     0.48949,     0.49049,     0.49149,     0.49249,     0.49349,     0.49449,      0.4955,      0.4965,      0.4975,      0.4985,      0.4995,      0.5005,      0.5015,      0.5025,      0.5035,\n",
       "            0.5045,     0.50551,     0.50651,     0.50751,     0.50851,     0.50951,     0.51051,     0.51151,     0.51251,     0.51351,     0.51451,     0.51552,     0.51652,     0.51752,     0.51852,     0.51952,     0.52052,     0.52152,     0.52252,     0.52352,     0.52452,     0.52553,     0.52653,     0.52753,\n",
       "           0.52853,     0.52953,     0.53053,     0.53153,     0.53253,     0.53353,     0.53453,     0.53554,     0.53654,     0.53754,     0.53854,     0.53954,     0.54054,     0.54154,     0.54254,     0.54354,     0.54454,     0.54555,     0.54655,     0.54755,     0.54855,     0.54955,     0.55055,     0.55155,\n",
       "           0.55255,     0.55355,     0.55455,     0.55556,     0.55656,     0.55756,     0.55856,     0.55956,     0.56056,     0.56156,     0.56256,     0.56356,     0.56456,     0.56557,     0.56657,     0.56757,     0.56857,     0.56957,     0.57057,     0.57157,     0.57257,     0.57357,     0.57457,     0.57558,\n",
       "           0.57658,     0.57758,     0.57858,     0.57958,     0.58058,     0.58158,     0.58258,     0.58358,     0.58458,     0.58559,     0.58659,     0.58759,     0.58859,     0.58959,     0.59059,     0.59159,     0.59259,     0.59359,     0.59459,      0.5956,      0.5966,      0.5976,      0.5986,      0.5996,\n",
       "            0.6006,      0.6016,      0.6026,      0.6036,      0.6046,     0.60561,     0.60661,     0.60761,     0.60861,     0.60961,     0.61061,     0.61161,     0.61261,     0.61361,     0.61461,     0.61562,     0.61662,     0.61762,     0.61862,     0.61962,     0.62062,     0.62162,     0.62262,     0.62362,\n",
       "           0.62462,     0.62563,     0.62663,     0.62763,     0.62863,     0.62963,     0.63063,     0.63163,     0.63263,     0.63363,     0.63463,     0.63564,     0.63664,     0.63764,     0.63864,     0.63964,     0.64064,     0.64164,     0.64264,     0.64364,     0.64464,     0.64565,     0.64665,     0.64765,\n",
       "           0.64865,     0.64965,     0.65065,     0.65165,     0.65265,     0.65365,     0.65465,     0.65566,     0.65666,     0.65766,     0.65866,     0.65966,     0.66066,     0.66166,     0.66266,     0.66366,     0.66466,     0.66567,     0.66667,     0.66767,     0.66867,     0.66967,     0.67067,     0.67167,\n",
       "           0.67267,     0.67367,     0.67467,     0.67568,     0.67668,     0.67768,     0.67868,     0.67968,     0.68068,     0.68168,     0.68268,     0.68368,     0.68468,     0.68569,     0.68669,     0.68769,     0.68869,     0.68969,     0.69069,     0.69169,     0.69269,     0.69369,     0.69469,      0.6957,\n",
       "            0.6967,      0.6977,      0.6987,      0.6997,      0.7007,      0.7017,      0.7027,      0.7037,      0.7047,     0.70571,     0.70671,     0.70771,     0.70871,     0.70971,     0.71071,     0.71171,     0.71271,     0.71371,     0.71471,     0.71572,     0.71672,     0.71772,     0.71872,     0.71972,\n",
       "           0.72072,     0.72172,     0.72272,     0.72372,     0.72472,     0.72573,     0.72673,     0.72773,     0.72873,     0.72973,     0.73073,     0.73173,     0.73273,     0.73373,     0.73473,     0.73574,     0.73674,     0.73774,     0.73874,     0.73974,     0.74074,     0.74174,     0.74274,     0.74374,\n",
       "           0.74474,     0.74575,     0.74675,     0.74775,     0.74875,     0.74975,     0.75075,     0.75175,     0.75275,     0.75375,     0.75475,     0.75576,     0.75676,     0.75776,     0.75876,     0.75976,     0.76076,     0.76176,     0.76276,     0.76376,     0.76476,     0.76577,     0.76677,     0.76777,\n",
       "           0.76877,     0.76977,     0.77077,     0.77177,     0.77277,     0.77377,     0.77477,     0.77578,     0.77678,     0.77778,     0.77878,     0.77978,     0.78078,     0.78178,     0.78278,     0.78378,     0.78478,     0.78579,     0.78679,     0.78779,     0.78879,     0.78979,     0.79079,     0.79179,\n",
       "           0.79279,     0.79379,     0.79479,      0.7958,      0.7968,      0.7978,      0.7988,      0.7998,      0.8008,      0.8018,      0.8028,      0.8038,      0.8048,     0.80581,     0.80681,     0.80781,     0.80881,     0.80981,     0.81081,     0.81181,     0.81281,     0.81381,     0.81481,     0.81582,\n",
       "           0.81682,     0.81782,     0.81882,     0.81982,     0.82082,     0.82182,     0.82282,     0.82382,     0.82482,     0.82583,     0.82683,     0.82783,     0.82883,     0.82983,     0.83083,     0.83183,     0.83283,     0.83383,     0.83483,     0.83584,     0.83684,     0.83784,     0.83884,     0.83984,\n",
       "           0.84084,     0.84184,     0.84284,     0.84384,     0.84484,     0.84585,     0.84685,     0.84785,     0.84885,     0.84985,     0.85085,     0.85185,     0.85285,     0.85385,     0.85485,     0.85586,     0.85686,     0.85786,     0.85886,     0.85986,     0.86086,     0.86186,     0.86286,     0.86386,\n",
       "           0.86486,     0.86587,     0.86687,     0.86787,     0.86887,     0.86987,     0.87087,     0.87187,     0.87287,     0.87387,     0.87487,     0.87588,     0.87688,     0.87788,     0.87888,     0.87988,     0.88088,     0.88188,     0.88288,     0.88388,     0.88488,     0.88589,     0.88689,     0.88789,\n",
       "           0.88889,     0.88989,     0.89089,     0.89189,     0.89289,     0.89389,     0.89489,      0.8959,      0.8969,      0.8979,      0.8989,      0.8999,      0.9009,      0.9019,      0.9029,      0.9039,      0.9049,     0.90591,     0.90691,     0.90791,     0.90891,     0.90991,     0.91091,     0.91191,\n",
       "           0.91291,     0.91391,     0.91491,     0.91592,     0.91692,     0.91792,     0.91892,     0.91992,     0.92092,     0.92192,     0.92292,     0.92392,     0.92492,     0.92593,     0.92693,     0.92793,     0.92893,     0.92993,     0.93093,     0.93193,     0.93293,     0.93393,     0.93493,     0.93594,\n",
       "           0.93694,     0.93794,     0.93894,     0.93994,     0.94094,     0.94194,     0.94294,     0.94394,     0.94494,     0.94595,     0.94695,     0.94795,     0.94895,     0.94995,     0.95095,     0.95195,     0.95295,     0.95395,     0.95495,     0.95596,     0.95696,     0.95796,     0.95896,     0.95996,\n",
       "           0.96096,     0.96196,     0.96296,     0.96396,     0.96496,     0.96597,     0.96697,     0.96797,     0.96897,     0.96997,     0.97097,     0.97197,     0.97297,     0.97397,     0.97497,     0.97598,     0.97698,     0.97798,     0.97898,     0.97998,     0.98098,     0.98198,     0.98298,     0.98398,\n",
       "           0.98498,     0.98599,     0.98699,     0.98799,     0.98899,     0.98999,     0.99099,     0.99199,     0.99299,     0.99399,     0.99499,       0.996,       0.997,       0.998,       0.999,           1]), array([[    0.16207,     0.16214,      0.2291,     0.27633,     0.31393,     0.34608,     0.37359,     0.39745,     0.41721,     0.43606,     0.45187,     0.46641,     0.47931,     0.49152,     0.50224,     0.51306,     0.52374,     0.53426,     0.54279,     0.55175,     0.55909,     0.56544,     0.57061,\n",
       "            0.57633,     0.58147,     0.58543,     0.59136,     0.59609,     0.60271,     0.60642,     0.61052,      0.6156,     0.62068,      0.6246,     0.62847,     0.63308,     0.63658,     0.63958,      0.6436,     0.64876,     0.65107,     0.65421,     0.65644,     0.66144,     0.66532,     0.66862,\n",
       "            0.67091,     0.67294,     0.67565,     0.67702,     0.68055,     0.68447,     0.68721,     0.68913,      0.6907,     0.69356,     0.69511,     0.69968,     0.70049,     0.70265,     0.70428,     0.70595,     0.70815,     0.71121,     0.71218,     0.71385,     0.71506,     0.71731,     0.71854,\n",
       "            0.72064,     0.72219,     0.72414,     0.72511,     0.72621,     0.72831,     0.73058,     0.73231,     0.73359,     0.73531,     0.73835,     0.73979,     0.74191,     0.74334,     0.74489,     0.74652,     0.75054,     0.75149,     0.75288,     0.75513,     0.75604,     0.75719,     0.75977,\n",
       "            0.76049,     0.76133,     0.76387,     0.76479,     0.76594,     0.76785,     0.76877,      0.7704,     0.77164,     0.77272,     0.77312,     0.77402,     0.77515,     0.77578,     0.77752,     0.77844,     0.77931,     0.78104,     0.78209,     0.78401,     0.78524,     0.78606,     0.78634,\n",
       "            0.78817,     0.78879,     0.79036,     0.79202,     0.79268,     0.79344,       0.794,     0.79467,     0.79562,     0.79636,     0.79686,     0.79718,     0.79798,     0.79957,     0.80066,     0.80092,     0.80182,     0.80296,     0.80499,     0.80616,     0.80722,     0.80785,     0.80835,\n",
       "            0.80869,     0.80884,     0.80911,     0.81004,     0.80977,     0.80951,     0.80974,     0.80983,     0.81082,     0.81151,     0.81245,     0.81286,     0.81327,      0.8129,     0.81349,     0.81397,     0.81505,     0.81547,     0.81712,     0.81782,     0.81866,      0.8188,     0.81912,\n",
       "            0.82015,     0.82045,     0.81997,     0.82037,     0.82117,     0.82253,     0.82331,     0.82416,     0.82517,     0.82611,     0.82631,     0.82666,     0.82774,      0.8285,     0.82891,     0.82945,     0.82864,     0.82911,     0.83015,     0.83104,       0.832,     0.83265,     0.83336,\n",
       "            0.83447,     0.83501,      0.8368,     0.83878,     0.83956,     0.83986,     0.83981,     0.84012,     0.84049,     0.84139,     0.84223,     0.84273,     0.84238,     0.84194,      0.8424,     0.84265,     0.84245,     0.84279,      0.8443,     0.84486,     0.84499,     0.84512,     0.84525,\n",
       "            0.84637,     0.84667,     0.84688,     0.84713,     0.84739,     0.84766,     0.84804,     0.84875,     0.84969,      0.8505,     0.85074,     0.85062,     0.85071,     0.85039,     0.85107,     0.85153,     0.85253,     0.85275,     0.85311,     0.85456,     0.85515,     0.85592,     0.85621,\n",
       "            0.85639,     0.85657,     0.85725,     0.85794,     0.85808,     0.85821,     0.85885,     0.85934,     0.85983,     0.85901,     0.85968,     0.85981,     0.85994,     0.86007,      0.8597,     0.86046,     0.86062,     0.86079,     0.86175,     0.86207,     0.86239,     0.86312,     0.86395,\n",
       "            0.86432,     0.86442,     0.86452,     0.86463,     0.86507,     0.86489,     0.86657,     0.86703,     0.86804,     0.86828,       0.869,     0.86946,     0.87007,     0.87092,     0.87204,     0.87313,     0.87551,     0.87585,     0.87558,     0.87593,     0.87629,       0.877,     0.87762,\n",
       "            0.87778,     0.87793,     0.87754,     0.87713,     0.87701,     0.87807,     0.87841,     0.87913,     0.87962,     0.87977,     0.87993,     0.88051,      0.8807,     0.88089,     0.88112,     0.88137,     0.88169,     0.88123,     0.88153,     0.88098,     0.88072,     0.88046,     0.88006,\n",
       "             0.8804,     0.88053,     0.88065,     0.88078,     0.88094,     0.88111,     0.88113,     0.88119,     0.88146,     0.88177,     0.88224,     0.88212,     0.88211,     0.88241,     0.88277,     0.88329,     0.88333,     0.88364,     0.88381,     0.88397,     0.88415,     0.88438,     0.88462,\n",
       "            0.88485,      0.8851,     0.88537,     0.88474,     0.88448,     0.88412,     0.88384,      0.8842,     0.88482,     0.88542,     0.88574,     0.88603,     0.88629,     0.88644,     0.88655,     0.88666,     0.88677,     0.88729,     0.88786,     0.88831,      0.8886,     0.88872,     0.88883,\n",
       "            0.88895,     0.88893,     0.88881,     0.88868,     0.88856,     0.88843,     0.88812,     0.88883,       0.889,     0.88917,     0.88945,     0.88984,        0.89,     0.88964,     0.88995,     0.89056,     0.89081,     0.89078,     0.89058,     0.89031,     0.89069,     0.89027,     0.89065,\n",
       "            0.89104,     0.89143,       0.891,     0.89118,     0.89137,     0.89107,     0.89044,     0.89085,     0.89109,      0.8908,     0.89117,     0.89124,      0.8913,     0.89137,     0.89143,      0.8915,     0.89156,     0.89172,     0.89197,     0.89189,     0.89162,     0.89244,     0.89275,\n",
       "            0.89323,     0.89375,     0.89399,     0.89389,      0.8941,     0.89428,     0.89442,     0.89456,     0.89474,      0.8951,     0.89488,     0.89458,     0.89504,     0.89524,     0.89543,     0.89563,     0.89583,     0.89642,     0.89668,     0.89689,     0.89682,     0.89663,     0.89644,\n",
       "            0.89678,     0.89725,     0.89805,      0.8989,     0.89903,     0.89809,     0.89672,      0.8963,     0.89652,     0.89673,     0.89755,     0.89785,     0.89804,     0.89823,     0.89846,     0.89869,      0.8981,     0.89646,     0.89667,     0.89691,     0.89722,     0.89711,     0.89685,\n",
       "            0.89677,     0.89694,     0.89712,     0.89667,     0.89612,     0.89607,     0.89616,     0.89626,     0.89636,     0.89646,     0.89665,     0.89685,     0.89701,     0.89712,     0.89723,     0.89734,     0.89787,     0.89863,     0.89887,     0.89902,     0.89915,     0.89928,      0.8994,\n",
       "            0.89896,     0.89852,     0.89828,     0.89855,     0.89886,     0.89917,     0.89896,     0.89875,     0.89855,     0.89835,     0.89815,     0.89838,      0.8986,     0.89873,     0.89886,     0.89907,     0.89958,     0.89995,     0.90048,     0.90071,     0.90027,      0.9003,     0.90038,\n",
       "            0.90047,     0.90056,     0.90065,     0.90102,     0.90043,     0.89996,     0.89983,     0.89969,     0.89956,     0.89942,     0.89968,     0.89976,     0.89947,     0.89974,     0.90012,     0.89968,     0.89949,     0.89932,     0.89914,     0.89873,     0.89836,     0.89817,     0.89798,\n",
       "            0.89779,     0.89757,     0.89735,     0.89602,     0.89633,     0.89636,     0.89595,     0.89697,     0.89683,     0.89617,     0.89609,     0.89601,     0.89594,     0.89586,     0.89578,      0.8957,     0.89563,     0.89552,     0.89514,     0.89481,     0.89452,     0.89459,     0.89369,\n",
       "            0.89445,     0.89435,     0.89384,     0.89361,     0.89338,     0.89309,     0.89273,      0.8923,     0.89193,     0.89171,     0.89149,     0.89078,     0.89093,     0.89108,     0.89123,      0.8917,     0.89206,     0.89215,     0.89189,     0.89158,     0.89039,     0.89088,     0.89029,\n",
       "            0.89057,     0.88983,     0.88987,     0.88945,     0.88849,     0.88816,     0.88916,     0.88951,     0.88917,     0.88886,      0.8887,     0.88855,     0.88839,     0.88821,     0.88786,      0.8875,     0.88712,     0.88707,     0.88719,     0.88731,     0.88743,     0.88735,     0.88696,\n",
       "            0.88658,     0.88642,     0.88564,     0.88566,      0.8859,     0.88534,      0.8849,     0.88487,     0.88518,     0.88452,     0.88435,     0.88417,     0.88399,     0.88318,     0.88264,     0.88203,     0.88224,     0.88246,     0.88243,      0.8823,     0.88217,     0.88204,     0.88191,\n",
       "            0.88212,     0.88279,     0.88244,     0.88266,      0.8817,     0.88179,     0.88227,     0.88289,     0.88251,     0.88276,     0.88228,     0.88196,     0.88169,     0.88179,     0.88144,     0.88156,     0.88167,     0.88178,      0.8819,     0.88202,     0.88215,     0.88227,      0.8824,\n",
       "            0.88215,     0.88156,     0.88106,     0.88082,     0.88058,     0.88037,     0.88016,     0.87996,     0.87938,     0.87971,     0.87935,     0.87898,     0.87911,     0.87923,     0.87936,     0.87932,     0.87902,     0.87863,      0.8779,     0.87738,     0.87706,     0.87664,     0.87641,\n",
       "            0.87683,     0.87707,     0.87708,     0.87685,     0.87663,      0.8758,     0.87563,     0.87547,      0.8753,      0.8746,     0.87425,     0.87394,     0.87246,     0.87225,     0.87205,     0.87177,     0.87211,     0.87219,     0.87201,     0.87183,     0.87166,     0.87188,     0.87224,\n",
       "            0.87258,     0.87179,     0.87133,     0.87168,     0.87166,     0.87139,     0.87108,     0.87062,     0.86937,     0.86884,     0.86795,     0.86663,     0.86692,     0.86551,     0.86518,     0.86485,     0.86452,     0.86393,     0.86456,     0.86435,     0.86505,     0.86518,     0.86532,\n",
       "            0.86545,     0.86446,     0.86329,     0.86299,     0.86205,     0.86116,     0.86097,     0.86124,     0.86107,     0.86087,     0.86066,     0.86022,     0.85836,     0.85715,     0.85677,     0.85641,     0.85617,     0.85592,     0.85542,     0.85496,     0.85479,     0.85462,     0.85445,\n",
       "            0.85395,     0.85411,     0.85374,     0.85276,     0.85177,     0.85095,     0.84988,     0.84916,     0.84816,     0.84719,     0.84667,     0.84694,     0.84637,     0.84516,     0.84506,     0.84525,     0.84544,     0.84478,     0.84501,     0.84523,     0.84474,     0.84398,     0.84345,\n",
       "            0.84241,     0.84198,      0.8401,      0.8392,     0.83901,     0.83882,     0.83857,     0.83813,     0.83842,      0.8375,     0.83682,     0.83653,     0.83566,     0.83461,     0.83384,     0.83321,     0.83291,     0.83262,     0.83236,      0.8321,     0.83238,     0.83271,     0.83297,\n",
       "            0.83144,     0.83061,     0.83024,     0.83054,     0.83023,      0.8285,     0.82874,     0.82733,     0.82577,     0.82476,     0.82401,     0.82349,     0.82284,     0.82167,     0.82089,     0.81911,     0.81776,     0.81611,     0.81587,     0.81563,     0.81522,     0.81306,     0.81277,\n",
       "            0.81247,     0.81193,      0.8093,     0.80841,     0.80761,     0.80717,     0.80677,     0.80644,     0.80591,     0.80301,     0.80193,     0.79994,     0.79924,     0.79922,     0.79873,     0.79833,      0.7969,     0.79525,     0.79193,     0.79045,     0.79003,     0.78682,     0.78546,\n",
       "            0.78586,     0.78415,     0.78366,     0.78152,     0.78039,     0.77788,     0.77613,     0.77482,     0.77104,     0.76966,     0.76743,     0.76476,     0.76131,      0.7582,     0.75733,     0.75476,      0.7496,     0.74571,     0.74036,     0.73781,     0.73276,      0.7299,     0.72607,\n",
       "            0.72254,     0.72049,     0.71971,     0.71581,     0.71141,     0.70693,     0.70405,     0.70152,     0.69872,     0.69393,     0.68709,     0.68157,     0.67417,     0.67121,     0.66802,     0.66163,     0.65491,     0.64845,     0.64341,     0.63901,     0.62734,     0.62012,     0.61574,\n",
       "            0.61208,     0.60073,     0.59422,     0.58845,     0.58117,     0.57229,     0.56665,     0.56088,     0.55184,     0.54432,     0.53144,     0.52322,     0.51351,     0.50646,     0.49617,     0.48027,     0.47378,       0.461,     0.45367,     0.44659,     0.43856,       0.432,     0.41869,\n",
       "            0.40593,     0.39731,     0.39121,     0.38241,     0.37467,     0.35813,     0.35337,     0.33979,     0.33209,     0.33002,     0.31845,     0.31153,     0.30503,     0.29523,     0.27543,     0.26468,     0.25277,     0.24151,     0.22853,     0.22369,     0.21981,     0.20961,     0.19879,\n",
       "            0.18571,     0.17304,      0.1646,     0.15855,      0.1505,     0.13741,     0.13278,     0.12905,     0.11712,     0.10463,     0.10156,     0.09728,     0.08691,     0.08034,    0.073343,    0.063285,    0.057067,    0.050537,    0.047387,    0.042582,    0.033601,    0.032262,    0.030172,\n",
       "           0.029088,     0.02811,    0.023184,    0.020687,    0.018795,    0.018083,    0.017371,    0.015498,    0.014354,    0.013435,    0.012681,    0.012105,    0.011529,    0.010952,   0.0084159,   0.0080723,   0.0077285,   0.0073846,   0.0070406,   0.0066964,   0.0064526,   0.0063413,   0.0062299,\n",
       "          0.0061186,   0.0060072,   0.0058959,   0.0057845,   0.0056731,   0.0055617,   0.0054503,   0.0053388,   0.0052274,   0.0051159,   0.0050045,    0.004893,   0.0047815,     0.00467,   0.0045585,   0.0044469,   0.0043333,   0.0041442,   0.0039551,   0.0037659,   0.0035767,   0.0033875,   0.0031982,\n",
       "          0.0030089,   0.0028196,   0.0026302,   0.0024408,   0.0022513,           0,           0,           0,           0,           0,           0,           0,           0,           0,           0,           0,           0,           0,           0,           0,           0,           0,           0,\n",
       "                  0,           0,           0,           0,           0,           0,           0,           0,           0,           0,           0]]), 'Confidence', 'F1'], [array([          0,    0.001001,    0.002002,    0.003003,    0.004004,    0.005005,    0.006006,    0.007007,    0.008008,    0.009009,     0.01001,    0.011011,    0.012012,    0.013013,    0.014014,    0.015015,    0.016016,    0.017017,    0.018018,    0.019019,     0.02002,    0.021021,    0.022022,    0.023023,\n",
       "          0.024024,    0.025025,    0.026026,    0.027027,    0.028028,    0.029029,     0.03003,    0.031031,    0.032032,    0.033033,    0.034034,    0.035035,    0.036036,    0.037037,    0.038038,    0.039039,     0.04004,    0.041041,    0.042042,    0.043043,    0.044044,    0.045045,    0.046046,    0.047047,\n",
       "          0.048048,    0.049049,     0.05005,    0.051051,    0.052052,    0.053053,    0.054054,    0.055055,    0.056056,    0.057057,    0.058058,    0.059059,     0.06006,    0.061061,    0.062062,    0.063063,    0.064064,    0.065065,    0.066066,    0.067067,    0.068068,    0.069069,     0.07007,    0.071071,\n",
       "          0.072072,    0.073073,    0.074074,    0.075075,    0.076076,    0.077077,    0.078078,    0.079079,     0.08008,    0.081081,    0.082082,    0.083083,    0.084084,    0.085085,    0.086086,    0.087087,    0.088088,    0.089089,     0.09009,    0.091091,    0.092092,    0.093093,    0.094094,    0.095095,\n",
       "          0.096096,    0.097097,    0.098098,    0.099099,      0.1001,      0.1011,      0.1021,      0.1031,      0.1041,     0.10511,     0.10611,     0.10711,     0.10811,     0.10911,     0.11011,     0.11111,     0.11211,     0.11311,     0.11411,     0.11512,     0.11612,     0.11712,     0.11812,     0.11912,\n",
       "           0.12012,     0.12112,     0.12212,     0.12312,     0.12412,     0.12513,     0.12613,     0.12713,     0.12813,     0.12913,     0.13013,     0.13113,     0.13213,     0.13313,     0.13413,     0.13514,     0.13614,     0.13714,     0.13814,     0.13914,     0.14014,     0.14114,     0.14214,     0.14314,\n",
       "           0.14414,     0.14515,     0.14615,     0.14715,     0.14815,     0.14915,     0.15015,     0.15115,     0.15215,     0.15315,     0.15415,     0.15516,     0.15616,     0.15716,     0.15816,     0.15916,     0.16016,     0.16116,     0.16216,     0.16316,     0.16416,     0.16517,     0.16617,     0.16717,\n",
       "           0.16817,     0.16917,     0.17017,     0.17117,     0.17217,     0.17317,     0.17417,     0.17518,     0.17618,     0.17718,     0.17818,     0.17918,     0.18018,     0.18118,     0.18218,     0.18318,     0.18418,     0.18519,     0.18619,     0.18719,     0.18819,     0.18919,     0.19019,     0.19119,\n",
       "           0.19219,     0.19319,     0.19419,      0.1952,      0.1962,      0.1972,      0.1982,      0.1992,      0.2002,      0.2012,      0.2022,      0.2032,      0.2042,     0.20521,     0.20621,     0.20721,     0.20821,     0.20921,     0.21021,     0.21121,     0.21221,     0.21321,     0.21421,     0.21522,\n",
       "           0.21622,     0.21722,     0.21822,     0.21922,     0.22022,     0.22122,     0.22222,     0.22322,     0.22422,     0.22523,     0.22623,     0.22723,     0.22823,     0.22923,     0.23023,     0.23123,     0.23223,     0.23323,     0.23423,     0.23524,     0.23624,     0.23724,     0.23824,     0.23924,\n",
       "           0.24024,     0.24124,     0.24224,     0.24324,     0.24424,     0.24525,     0.24625,     0.24725,     0.24825,     0.24925,     0.25025,     0.25125,     0.25225,     0.25325,     0.25425,     0.25526,     0.25626,     0.25726,     0.25826,     0.25926,     0.26026,     0.26126,     0.26226,     0.26326,\n",
       "           0.26426,     0.26527,     0.26627,     0.26727,     0.26827,     0.26927,     0.27027,     0.27127,     0.27227,     0.27327,     0.27427,     0.27528,     0.27628,     0.27728,     0.27828,     0.27928,     0.28028,     0.28128,     0.28228,     0.28328,     0.28428,     0.28529,     0.28629,     0.28729,\n",
       "           0.28829,     0.28929,     0.29029,     0.29129,     0.29229,     0.29329,     0.29429,      0.2953,      0.2963,      0.2973,      0.2983,      0.2993,      0.3003,      0.3013,      0.3023,      0.3033,      0.3043,     0.30531,     0.30631,     0.30731,     0.30831,     0.30931,     0.31031,     0.31131,\n",
       "           0.31231,     0.31331,     0.31431,     0.31532,     0.31632,     0.31732,     0.31832,     0.31932,     0.32032,     0.32132,     0.32232,     0.32332,     0.32432,     0.32533,     0.32633,     0.32733,     0.32833,     0.32933,     0.33033,     0.33133,     0.33233,     0.33333,     0.33433,     0.33534,\n",
       "           0.33634,     0.33734,     0.33834,     0.33934,     0.34034,     0.34134,     0.34234,     0.34334,     0.34434,     0.34535,     0.34635,     0.34735,     0.34835,     0.34935,     0.35035,     0.35135,     0.35235,     0.35335,     0.35435,     0.35536,     0.35636,     0.35736,     0.35836,     0.35936,\n",
       "           0.36036,     0.36136,     0.36236,     0.36336,     0.36436,     0.36537,     0.36637,     0.36737,     0.36837,     0.36937,     0.37037,     0.37137,     0.37237,     0.37337,     0.37437,     0.37538,     0.37638,     0.37738,     0.37838,     0.37938,     0.38038,     0.38138,     0.38238,     0.38338,\n",
       "           0.38438,     0.38539,     0.38639,     0.38739,     0.38839,     0.38939,     0.39039,     0.39139,     0.39239,     0.39339,     0.39439,      0.3954,      0.3964,      0.3974,      0.3984,      0.3994,      0.4004,      0.4014,      0.4024,      0.4034,      0.4044,     0.40541,     0.40641,     0.40741,\n",
       "           0.40841,     0.40941,     0.41041,     0.41141,     0.41241,     0.41341,     0.41441,     0.41542,     0.41642,     0.41742,     0.41842,     0.41942,     0.42042,     0.42142,     0.42242,     0.42342,     0.42442,     0.42543,     0.42643,     0.42743,     0.42843,     0.42943,     0.43043,     0.43143,\n",
       "           0.43243,     0.43343,     0.43443,     0.43544,     0.43644,     0.43744,     0.43844,     0.43944,     0.44044,     0.44144,     0.44244,     0.44344,     0.44444,     0.44545,     0.44645,     0.44745,     0.44845,     0.44945,     0.45045,     0.45145,     0.45245,     0.45345,     0.45445,     0.45546,\n",
       "           0.45646,     0.45746,     0.45846,     0.45946,     0.46046,     0.46146,     0.46246,     0.46346,     0.46446,     0.46547,     0.46647,     0.46747,     0.46847,     0.46947,     0.47047,     0.47147,     0.47247,     0.47347,     0.47447,     0.47548,     0.47648,     0.47748,     0.47848,     0.47948,\n",
       "           0.48048,     0.48148,     0.48248,     0.48348,     0.48448,     0.48549,     0.48649,     0.48749,     0.48849,     0.48949,     0.49049,     0.49149,     0.49249,     0.49349,     0.49449,      0.4955,      0.4965,      0.4975,      0.4985,      0.4995,      0.5005,      0.5015,      0.5025,      0.5035,\n",
       "            0.5045,     0.50551,     0.50651,     0.50751,     0.50851,     0.50951,     0.51051,     0.51151,     0.51251,     0.51351,     0.51451,     0.51552,     0.51652,     0.51752,     0.51852,     0.51952,     0.52052,     0.52152,     0.52252,     0.52352,     0.52452,     0.52553,     0.52653,     0.52753,\n",
       "           0.52853,     0.52953,     0.53053,     0.53153,     0.53253,     0.53353,     0.53453,     0.53554,     0.53654,     0.53754,     0.53854,     0.53954,     0.54054,     0.54154,     0.54254,     0.54354,     0.54454,     0.54555,     0.54655,     0.54755,     0.54855,     0.54955,     0.55055,     0.55155,\n",
       "           0.55255,     0.55355,     0.55455,     0.55556,     0.55656,     0.55756,     0.55856,     0.55956,     0.56056,     0.56156,     0.56256,     0.56356,     0.56456,     0.56557,     0.56657,     0.56757,     0.56857,     0.56957,     0.57057,     0.57157,     0.57257,     0.57357,     0.57457,     0.57558,\n",
       "           0.57658,     0.57758,     0.57858,     0.57958,     0.58058,     0.58158,     0.58258,     0.58358,     0.58458,     0.58559,     0.58659,     0.58759,     0.58859,     0.58959,     0.59059,     0.59159,     0.59259,     0.59359,     0.59459,      0.5956,      0.5966,      0.5976,      0.5986,      0.5996,\n",
       "            0.6006,      0.6016,      0.6026,      0.6036,      0.6046,     0.60561,     0.60661,     0.60761,     0.60861,     0.60961,     0.61061,     0.61161,     0.61261,     0.61361,     0.61461,     0.61562,     0.61662,     0.61762,     0.61862,     0.61962,     0.62062,     0.62162,     0.62262,     0.62362,\n",
       "           0.62462,     0.62563,     0.62663,     0.62763,     0.62863,     0.62963,     0.63063,     0.63163,     0.63263,     0.63363,     0.63463,     0.63564,     0.63664,     0.63764,     0.63864,     0.63964,     0.64064,     0.64164,     0.64264,     0.64364,     0.64464,     0.64565,     0.64665,     0.64765,\n",
       "           0.64865,     0.64965,     0.65065,     0.65165,     0.65265,     0.65365,     0.65465,     0.65566,     0.65666,     0.65766,     0.65866,     0.65966,     0.66066,     0.66166,     0.66266,     0.66366,     0.66466,     0.66567,     0.66667,     0.66767,     0.66867,     0.66967,     0.67067,     0.67167,\n",
       "           0.67267,     0.67367,     0.67467,     0.67568,     0.67668,     0.67768,     0.67868,     0.67968,     0.68068,     0.68168,     0.68268,     0.68368,     0.68468,     0.68569,     0.68669,     0.68769,     0.68869,     0.68969,     0.69069,     0.69169,     0.69269,     0.69369,     0.69469,      0.6957,\n",
       "            0.6967,      0.6977,      0.6987,      0.6997,      0.7007,      0.7017,      0.7027,      0.7037,      0.7047,     0.70571,     0.70671,     0.70771,     0.70871,     0.70971,     0.71071,     0.71171,     0.71271,     0.71371,     0.71471,     0.71572,     0.71672,     0.71772,     0.71872,     0.71972,\n",
       "           0.72072,     0.72172,     0.72272,     0.72372,     0.72472,     0.72573,     0.72673,     0.72773,     0.72873,     0.72973,     0.73073,     0.73173,     0.73273,     0.73373,     0.73473,     0.73574,     0.73674,     0.73774,     0.73874,     0.73974,     0.74074,     0.74174,     0.74274,     0.74374,\n",
       "           0.74474,     0.74575,     0.74675,     0.74775,     0.74875,     0.74975,     0.75075,     0.75175,     0.75275,     0.75375,     0.75475,     0.75576,     0.75676,     0.75776,     0.75876,     0.75976,     0.76076,     0.76176,     0.76276,     0.76376,     0.76476,     0.76577,     0.76677,     0.76777,\n",
       "           0.76877,     0.76977,     0.77077,     0.77177,     0.77277,     0.77377,     0.77477,     0.77578,     0.77678,     0.77778,     0.77878,     0.77978,     0.78078,     0.78178,     0.78278,     0.78378,     0.78478,     0.78579,     0.78679,     0.78779,     0.78879,     0.78979,     0.79079,     0.79179,\n",
       "           0.79279,     0.79379,     0.79479,      0.7958,      0.7968,      0.7978,      0.7988,      0.7998,      0.8008,      0.8018,      0.8028,      0.8038,      0.8048,     0.80581,     0.80681,     0.80781,     0.80881,     0.80981,     0.81081,     0.81181,     0.81281,     0.81381,     0.81481,     0.81582,\n",
       "           0.81682,     0.81782,     0.81882,     0.81982,     0.82082,     0.82182,     0.82282,     0.82382,     0.82482,     0.82583,     0.82683,     0.82783,     0.82883,     0.82983,     0.83083,     0.83183,     0.83283,     0.83383,     0.83483,     0.83584,     0.83684,     0.83784,     0.83884,     0.83984,\n",
       "           0.84084,     0.84184,     0.84284,     0.84384,     0.84484,     0.84585,     0.84685,     0.84785,     0.84885,     0.84985,     0.85085,     0.85185,     0.85285,     0.85385,     0.85485,     0.85586,     0.85686,     0.85786,     0.85886,     0.85986,     0.86086,     0.86186,     0.86286,     0.86386,\n",
       "           0.86486,     0.86587,     0.86687,     0.86787,     0.86887,     0.86987,     0.87087,     0.87187,     0.87287,     0.87387,     0.87487,     0.87588,     0.87688,     0.87788,     0.87888,     0.87988,     0.88088,     0.88188,     0.88288,     0.88388,     0.88488,     0.88589,     0.88689,     0.88789,\n",
       "           0.88889,     0.88989,     0.89089,     0.89189,     0.89289,     0.89389,     0.89489,      0.8959,      0.8969,      0.8979,      0.8989,      0.8999,      0.9009,      0.9019,      0.9029,      0.9039,      0.9049,     0.90591,     0.90691,     0.90791,     0.90891,     0.90991,     0.91091,     0.91191,\n",
       "           0.91291,     0.91391,     0.91491,     0.91592,     0.91692,     0.91792,     0.91892,     0.91992,     0.92092,     0.92192,     0.92292,     0.92392,     0.92492,     0.92593,     0.92693,     0.92793,     0.92893,     0.92993,     0.93093,     0.93193,     0.93293,     0.93393,     0.93493,     0.93594,\n",
       "           0.93694,     0.93794,     0.93894,     0.93994,     0.94094,     0.94194,     0.94294,     0.94394,     0.94494,     0.94595,     0.94695,     0.94795,     0.94895,     0.94995,     0.95095,     0.95195,     0.95295,     0.95395,     0.95495,     0.95596,     0.95696,     0.95796,     0.95896,     0.95996,\n",
       "           0.96096,     0.96196,     0.96296,     0.96396,     0.96496,     0.96597,     0.96697,     0.96797,     0.96897,     0.96997,     0.97097,     0.97197,     0.97297,     0.97397,     0.97497,     0.97598,     0.97698,     0.97798,     0.97898,     0.97998,     0.98098,     0.98198,     0.98298,     0.98398,\n",
       "           0.98498,     0.98599,     0.98699,     0.98799,     0.98899,     0.98999,     0.99099,     0.99199,     0.99299,     0.99399,     0.99499,       0.996,       0.997,       0.998,       0.999,           1]), array([[   0.088238,     0.08828,      0.1295,      0.1606,     0.18673,     0.21003,     0.23064,     0.24917,     0.26491,      0.2803,      0.2935,     0.30598,     0.31742,     0.32822,     0.33784,     0.34771,     0.35759,     0.36762,     0.37576,     0.38439,     0.39156,     0.39782,     0.40314,\n",
       "            0.40888,     0.41427,      0.4183,     0.42438,     0.42926,     0.43617,     0.44006,     0.44439,      0.4498,     0.45548,     0.45972,     0.46392,     0.46896,     0.47307,     0.47639,     0.48086,     0.48665,     0.48925,      0.4928,     0.49535,     0.50106,     0.50552,     0.50934,\n",
       "              0.512,     0.51438,     0.51755,     0.51947,     0.52363,      0.5283,     0.53189,     0.53419,     0.53608,     0.53954,     0.54142,     0.54698,     0.54832,     0.55097,     0.55334,      0.5554,     0.55812,     0.56193,     0.56352,     0.56561,     0.56713,     0.56997,     0.57191,\n",
       "            0.57456,     0.57654,     0.57903,     0.58027,     0.58168,     0.58439,     0.58731,     0.58955,     0.59122,     0.59345,     0.59742,     0.59973,     0.60252,     0.60441,     0.60646,     0.60862,     0.61399,     0.61525,     0.61713,     0.62015,     0.62138,     0.62294,     0.62644,\n",
       "            0.62741,     0.62856,     0.63203,     0.63328,     0.63486,     0.63749,     0.63876,     0.64102,     0.64322,     0.64473,     0.64527,     0.64654,     0.64811,     0.64899,     0.65143,     0.65272,     0.65394,     0.65638,     0.65787,      0.6606,     0.66235,     0.66351,     0.66392,\n",
       "            0.66653,     0.66741,     0.66966,     0.67205,       0.673,      0.6741,     0.67491,     0.67587,     0.67725,     0.67832,     0.67905,     0.67951,     0.68067,     0.68299,     0.68458,     0.68496,     0.68629,     0.68795,     0.69094,     0.69267,     0.69423,     0.69516,     0.69592,\n",
       "            0.69641,     0.69663,     0.69703,     0.69842,     0.69831,      0.6982,     0.69868,     0.69924,     0.70072,     0.70176,     0.70316,     0.70377,     0.70455,     0.70443,     0.70531,     0.70603,     0.70766,     0.70873,     0.71139,     0.71304,     0.71431,     0.71454,     0.71502,\n",
       "             0.7166,     0.71707,     0.71692,     0.71753,     0.71876,     0.72085,     0.72205,     0.72335,     0.72491,     0.72636,     0.72668,     0.72721,     0.72889,     0.73006,     0.73071,     0.73155,     0.73135,     0.73229,     0.73392,      0.7353,     0.73681,     0.73784,     0.73894,\n",
       "             0.7407,     0.74155,     0.74438,     0.74751,     0.74875,     0.74923,     0.74982,     0.75032,     0.75091,     0.75234,     0.75368,     0.75484,      0.7547,     0.75454,     0.75532,     0.75572,     0.75608,     0.75732,     0.75977,     0.76067,     0.76089,      0.7611,     0.76131,\n",
       "            0.76312,     0.76362,     0.76396,     0.76437,     0.76479,     0.76522,     0.76584,       0.767,     0.76854,     0.76987,     0.77062,     0.77078,     0.77114,     0.77113,     0.77224,       0.773,     0.77464,     0.77501,     0.77561,     0.77801,     0.77898,     0.78026,     0.78075,\n",
       "            0.78105,     0.78134,     0.78248,     0.78363,     0.78385,     0.78408,     0.78515,     0.78596,     0.78678,     0.78668,     0.78804,     0.78826,     0.78848,      0.7887,     0.78862,     0.79011,     0.79039,     0.79066,     0.79229,     0.79283,     0.79338,     0.79461,     0.79601,\n",
       "            0.79663,     0.79681,     0.79699,     0.79717,     0.79791,     0.79839,     0.80126,     0.80204,     0.80378,     0.80419,     0.80542,      0.8062,     0.80726,     0.80872,     0.81065,     0.81255,     0.81668,     0.81732,     0.81761,     0.81823,     0.81885,      0.8201,     0.82118,\n",
       "            0.82145,     0.82173,     0.82167,     0.82155,     0.82177,     0.82363,     0.82423,      0.8255,     0.82635,     0.82663,     0.82691,     0.82793,     0.82826,     0.82861,     0.82902,     0.82946,     0.83003,     0.82998,     0.83074,     0.83058,     0.83051,     0.83043,     0.83032,\n",
       "            0.83114,     0.83137,     0.83159,     0.83181,      0.8321,     0.83241,     0.83265,      0.8334,      0.8339,     0.83445,      0.8353,     0.83566,     0.83593,     0.83647,      0.8371,     0.83804,       0.839,     0.83957,     0.83986,     0.84015,     0.84048,      0.8409,     0.84132,\n",
       "            0.84175,      0.8422,     0.84269,     0.84264,     0.84257,     0.84247,     0.84258,     0.84324,     0.84437,     0.84636,     0.84695,     0.84747,     0.84795,     0.84822,     0.84842,     0.84862,     0.84882,     0.84978,     0.85136,     0.85257,      0.8531,     0.85332,     0.85354,\n",
       "            0.85376,     0.85384,      0.8538,     0.85377,     0.85374,     0.85371,     0.85407,     0.85537,     0.85569,     0.85601,     0.85652,     0.85726,     0.85782,     0.85781,     0.85839,     0.85953,     0.85999,     0.86027,      0.8605,     0.86096,     0.86167,     0.86183,     0.86254,\n",
       "            0.86327,     0.86401,     0.86415,      0.8645,     0.86485,     0.86494,     0.86503,     0.86579,     0.86626,     0.86668,     0.86738,      0.8675,     0.86763,     0.86775,     0.86787,       0.868,     0.86812,     0.86843,      0.8689,     0.86903,     0.86897,     0.87077,     0.87136,\n",
       "            0.87228,     0.87327,     0.87428,     0.87452,     0.87493,     0.87527,     0.87554,     0.87581,     0.87616,     0.87685,      0.8769,     0.87685,     0.87774,     0.87812,     0.87849,     0.87887,     0.87924,     0.88039,      0.8809,      0.8813,      0.8814,     0.88136,     0.88132,\n",
       "             0.8821,       0.883,     0.88456,     0.88622,     0.88685,     0.88666,     0.88638,     0.88631,     0.88673,     0.88715,     0.88876,     0.88935,     0.88972,     0.89009,     0.89054,     0.89099,     0.89091,     0.89082,     0.89123,     0.89171,     0.89232,     0.89244,     0.89239,\n",
       "             0.8925,     0.89284,     0.89318,     0.89322,     0.89311,     0.89324,     0.89343,     0.89363,     0.89383,     0.89402,     0.89439,      0.8948,     0.89512,     0.89534,     0.89556,     0.89578,     0.89683,     0.89834,     0.89883,     0.89913,     0.89938,     0.89964,     0.89989,\n",
       "            0.89981,     0.89973,     0.89983,     0.90038,     0.90099,     0.90164,      0.9016,     0.90156,     0.90153,     0.90149,     0.90145,     0.90224,     0.90267,     0.90294,      0.9032,     0.90363,     0.90465,     0.90652,     0.90759,     0.90827,     0.90819,     0.90834,     0.90852,\n",
       "             0.9087,     0.90888,     0.90906,     0.90981,     0.91007,     0.90999,     0.90997,     0.90995,     0.90993,      0.9099,     0.91049,     0.91089,     0.91084,     0.91175,     0.91282,     0.91275,     0.91272,     0.91269,     0.91267,      0.9126,     0.91254,     0.91251,     0.91248,\n",
       "            0.91245,     0.91241,     0.91238,     0.91217,      0.9128,     0.91317,      0.9131,     0.91532,     0.91611,       0.916,     0.91599,     0.91598,     0.91597,     0.91596,     0.91594,     0.91593,     0.91592,      0.9159,     0.91585,     0.91579,     0.91575,     0.91673,     0.91677,\n",
       "            0.91837,     0.91961,     0.91954,      0.9195,     0.91947,     0.91943,     0.91937,     0.91931,     0.91925,     0.91922,     0.91919,     0.91913,     0.91945,     0.91977,     0.92009,     0.92109,     0.92185,     0.92226,     0.92222,     0.92218,       0.922,     0.92308,     0.92299,\n",
       "            0.92365,     0.92393,     0.92464,     0.92489,     0.92476,     0.92471,     0.92822,     0.92899,     0.92895,     0.92891,     0.92889,     0.92886,     0.92884,     0.92882,     0.92877,     0.92872,     0.92867,     0.92883,     0.92909,     0.92935,      0.9296,     0.92974,     0.92969,\n",
       "            0.92964,        0.93,     0.93056,     0.93096,     0.93148,     0.93157,     0.93152,     0.93187,     0.93255,     0.93252,      0.9325,     0.93248,     0.93246,     0.93235,     0.93228,     0.93223,     0.93271,      0.9332,     0.93332,     0.93331,     0.93329,     0.93327,     0.93326,\n",
       "            0.93379,     0.93551,     0.93587,     0.93657,     0.93646,     0.93715,     0.93823,     0.93962,     0.94017,     0.94072,     0.94089,     0.94086,     0.94083,     0.94131,     0.94192,     0.94218,     0.94244,      0.9427,     0.94296,     0.94324,     0.94353,     0.94383,     0.94412,\n",
       "             0.9442,     0.94414,     0.94409,     0.94406,     0.94404,     0.94401,     0.94399,     0.94397,     0.94391,     0.94504,     0.94565,     0.94623,     0.94652,     0.94682,     0.94712,     0.94729,     0.94726,     0.94722,     0.94715,     0.94709,     0.94706,     0.94702,     0.94755,\n",
       "            0.94852,     0.94908,     0.94936,     0.94933,     0.94931,     0.94923,     0.94921,      0.9492,     0.94918,     0.94911,     0.94908,     0.94905,      0.9489,     0.94888,     0.94886,     0.95002,     0.95082,     0.95121,     0.95119,     0.95118,     0.95116,      0.9518,     0.95264,\n",
       "            0.95345,     0.95353,     0.95353,     0.95438,     0.95471,     0.95468,     0.95466,     0.95462,     0.95451,     0.95446,     0.95438,     0.95426,     0.95534,     0.95537,     0.95534,     0.95531,     0.95528,     0.95523,     0.95772,     0.95863,     0.96035,     0.96068,     0.96101,\n",
       "            0.96135,     0.96141,     0.96132,      0.9613,     0.96123,     0.96116,      0.9617,     0.96236,      0.9624,     0.96239,     0.96237,     0.96234,      0.9622,     0.96211,     0.96208,     0.96206,     0.96204,     0.96202,     0.96198,     0.96195,     0.96194,     0.96192,     0.96191,\n",
       "            0.96187,     0.96292,     0.96313,     0.96306,     0.96299,     0.96293,     0.96285,      0.9628,     0.96272,     0.96265,     0.96261,     0.96367,     0.96389,      0.9638,     0.96411,     0.96461,      0.9651,     0.96518,     0.96577,     0.96636,      0.9664,     0.96635,     0.96631,\n",
       "            0.96624,     0.96688,     0.96742,     0.96736,     0.96735,     0.96734,     0.96732,     0.96729,     0.96853,      0.9686,     0.96856,     0.96854,     0.96849,     0.96842,     0.96837,     0.96833,     0.96831,     0.96829,     0.96828,     0.96826,     0.96931,     0.97021,      0.9709,\n",
       "            0.97096,     0.97092,     0.97122,     0.97203,     0.97228,     0.97233,     0.97359,     0.97352,     0.97344,     0.97338,     0.97334,     0.97332,     0.97328,     0.97322,     0.97318,     0.97438,     0.97444,     0.97436,     0.97434,     0.97433,     0.97431,      0.9742,     0.97418,\n",
       "            0.97417,     0.97414,       0.974,     0.97395,     0.97538,     0.97536,     0.97534,     0.97532,      0.9753,     0.97515,      0.9751,       0.975,     0.97496,     0.97646,     0.97644,     0.97642,     0.97635,     0.97627,     0.97611,     0.97604,     0.97756,     0.97741,     0.97735,\n",
       "            0.97866,     0.97885,     0.98041,     0.98032,     0.98027,     0.98017,      0.9801,     0.98005,     0.97989,     0.97983,     0.97974,     0.98127,     0.98114,     0.98102,     0.98098,     0.98088,     0.98067,     0.98051,     0.98029,     0.98019,     0.98174,     0.98163,     0.98148,\n",
       "            0.98134,     0.98126,     0.98123,     0.98107,      0.9809,     0.98071,     0.98059,     0.98049,     0.98164,     0.98209,     0.98182,      0.9856,     0.98537,     0.98527,     0.98517,     0.98495,     0.98473,      0.9845,     0.98433,     0.98417,     0.98375,     0.98347,     0.98331,\n",
       "            0.98317,     0.98272,      0.9849,      0.9847,     0.98443,     0.98409,     0.98651,     0.98632,     0.98877,     0.98856,     0.98818,     0.98793,     0.98762,     0.98739,     0.98705,     0.98649,     0.98625,     0.98575,     0.98904,     0.98882,     0.98856,     0.98834,     0.98787,\n",
       "             0.9874,     0.98706,     0.98681,     0.98644,      0.9861,     0.98532,     0.98508,     0.98437,     0.98394,     0.98382,     0.98313,     0.98269,     0.98226,     0.98158,     0.98005,     0.97913,     0.97803,     0.97688,     0.98004,     0.98307,     0.98274,     0.98181,     0.98072,\n",
       "            0.97925,     0.98867,     0.98804,     0.98755,     0.98683,      0.9855,     0.98496,      0.9845,     0.98284,     0.98071,     0.98011,      0.9792,     0.97666,     0.97471,     0.97227,     0.96784,           1,           1,           1,           1,           1,           1,           1,\n",
       "                  1,           1,           1,           1,           1,           1,           1,           1,           1,           1,           1,           1,           1,           1,           1,           1,           1,           1,           1,           1,           1,           1,           1,\n",
       "                  1,           1,           1,           1,           1,           1,           1,           1,           1,           1,           1,           1,           1,           1,           1,           1,           1,           1,           1,           1,           1,           1,           1,\n",
       "                  1,           1,           1,           1,           1,           1,           1,           1,           1,           1,           1,           1,           1,           1,           1,           1,           1,           1,           1,           1,           1,           1,           1,\n",
       "                  1,           1,           1,           1,           1,           1,           1,           1,           1,           1,           1]]), 'Confidence', 'Precision'], [array([          0,    0.001001,    0.002002,    0.003003,    0.004004,    0.005005,    0.006006,    0.007007,    0.008008,    0.009009,     0.01001,    0.011011,    0.012012,    0.013013,    0.014014,    0.015015,    0.016016,    0.017017,    0.018018,    0.019019,     0.02002,    0.021021,    0.022022,    0.023023,\n",
       "          0.024024,    0.025025,    0.026026,    0.027027,    0.028028,    0.029029,     0.03003,    0.031031,    0.032032,    0.033033,    0.034034,    0.035035,    0.036036,    0.037037,    0.038038,    0.039039,     0.04004,    0.041041,    0.042042,    0.043043,    0.044044,    0.045045,    0.046046,    0.047047,\n",
       "          0.048048,    0.049049,     0.05005,    0.051051,    0.052052,    0.053053,    0.054054,    0.055055,    0.056056,    0.057057,    0.058058,    0.059059,     0.06006,    0.061061,    0.062062,    0.063063,    0.064064,    0.065065,    0.066066,    0.067067,    0.068068,    0.069069,     0.07007,    0.071071,\n",
       "          0.072072,    0.073073,    0.074074,    0.075075,    0.076076,    0.077077,    0.078078,    0.079079,     0.08008,    0.081081,    0.082082,    0.083083,    0.084084,    0.085085,    0.086086,    0.087087,    0.088088,    0.089089,     0.09009,    0.091091,    0.092092,    0.093093,    0.094094,    0.095095,\n",
       "          0.096096,    0.097097,    0.098098,    0.099099,      0.1001,      0.1011,      0.1021,      0.1031,      0.1041,     0.10511,     0.10611,     0.10711,     0.10811,     0.10911,     0.11011,     0.11111,     0.11211,     0.11311,     0.11411,     0.11512,     0.11612,     0.11712,     0.11812,     0.11912,\n",
       "           0.12012,     0.12112,     0.12212,     0.12312,     0.12412,     0.12513,     0.12613,     0.12713,     0.12813,     0.12913,     0.13013,     0.13113,     0.13213,     0.13313,     0.13413,     0.13514,     0.13614,     0.13714,     0.13814,     0.13914,     0.14014,     0.14114,     0.14214,     0.14314,\n",
       "           0.14414,     0.14515,     0.14615,     0.14715,     0.14815,     0.14915,     0.15015,     0.15115,     0.15215,     0.15315,     0.15415,     0.15516,     0.15616,     0.15716,     0.15816,     0.15916,     0.16016,     0.16116,     0.16216,     0.16316,     0.16416,     0.16517,     0.16617,     0.16717,\n",
       "           0.16817,     0.16917,     0.17017,     0.17117,     0.17217,     0.17317,     0.17417,     0.17518,     0.17618,     0.17718,     0.17818,     0.17918,     0.18018,     0.18118,     0.18218,     0.18318,     0.18418,     0.18519,     0.18619,     0.18719,     0.18819,     0.18919,     0.19019,     0.19119,\n",
       "           0.19219,     0.19319,     0.19419,      0.1952,      0.1962,      0.1972,      0.1982,      0.1992,      0.2002,      0.2012,      0.2022,      0.2032,      0.2042,     0.20521,     0.20621,     0.20721,     0.20821,     0.20921,     0.21021,     0.21121,     0.21221,     0.21321,     0.21421,     0.21522,\n",
       "           0.21622,     0.21722,     0.21822,     0.21922,     0.22022,     0.22122,     0.22222,     0.22322,     0.22422,     0.22523,     0.22623,     0.22723,     0.22823,     0.22923,     0.23023,     0.23123,     0.23223,     0.23323,     0.23423,     0.23524,     0.23624,     0.23724,     0.23824,     0.23924,\n",
       "           0.24024,     0.24124,     0.24224,     0.24324,     0.24424,     0.24525,     0.24625,     0.24725,     0.24825,     0.24925,     0.25025,     0.25125,     0.25225,     0.25325,     0.25425,     0.25526,     0.25626,     0.25726,     0.25826,     0.25926,     0.26026,     0.26126,     0.26226,     0.26326,\n",
       "           0.26426,     0.26527,     0.26627,     0.26727,     0.26827,     0.26927,     0.27027,     0.27127,     0.27227,     0.27327,     0.27427,     0.27528,     0.27628,     0.27728,     0.27828,     0.27928,     0.28028,     0.28128,     0.28228,     0.28328,     0.28428,     0.28529,     0.28629,     0.28729,\n",
       "           0.28829,     0.28929,     0.29029,     0.29129,     0.29229,     0.29329,     0.29429,      0.2953,      0.2963,      0.2973,      0.2983,      0.2993,      0.3003,      0.3013,      0.3023,      0.3033,      0.3043,     0.30531,     0.30631,     0.30731,     0.30831,     0.30931,     0.31031,     0.31131,\n",
       "           0.31231,     0.31331,     0.31431,     0.31532,     0.31632,     0.31732,     0.31832,     0.31932,     0.32032,     0.32132,     0.32232,     0.32332,     0.32432,     0.32533,     0.32633,     0.32733,     0.32833,     0.32933,     0.33033,     0.33133,     0.33233,     0.33333,     0.33433,     0.33534,\n",
       "           0.33634,     0.33734,     0.33834,     0.33934,     0.34034,     0.34134,     0.34234,     0.34334,     0.34434,     0.34535,     0.34635,     0.34735,     0.34835,     0.34935,     0.35035,     0.35135,     0.35235,     0.35335,     0.35435,     0.35536,     0.35636,     0.35736,     0.35836,     0.35936,\n",
       "           0.36036,     0.36136,     0.36236,     0.36336,     0.36436,     0.36537,     0.36637,     0.36737,     0.36837,     0.36937,     0.37037,     0.37137,     0.37237,     0.37337,     0.37437,     0.37538,     0.37638,     0.37738,     0.37838,     0.37938,     0.38038,     0.38138,     0.38238,     0.38338,\n",
       "           0.38438,     0.38539,     0.38639,     0.38739,     0.38839,     0.38939,     0.39039,     0.39139,     0.39239,     0.39339,     0.39439,      0.3954,      0.3964,      0.3974,      0.3984,      0.3994,      0.4004,      0.4014,      0.4024,      0.4034,      0.4044,     0.40541,     0.40641,     0.40741,\n",
       "           0.40841,     0.40941,     0.41041,     0.41141,     0.41241,     0.41341,     0.41441,     0.41542,     0.41642,     0.41742,     0.41842,     0.41942,     0.42042,     0.42142,     0.42242,     0.42342,     0.42442,     0.42543,     0.42643,     0.42743,     0.42843,     0.42943,     0.43043,     0.43143,\n",
       "           0.43243,     0.43343,     0.43443,     0.43544,     0.43644,     0.43744,     0.43844,     0.43944,     0.44044,     0.44144,     0.44244,     0.44344,     0.44444,     0.44545,     0.44645,     0.44745,     0.44845,     0.44945,     0.45045,     0.45145,     0.45245,     0.45345,     0.45445,     0.45546,\n",
       "           0.45646,     0.45746,     0.45846,     0.45946,     0.46046,     0.46146,     0.46246,     0.46346,     0.46446,     0.46547,     0.46647,     0.46747,     0.46847,     0.46947,     0.47047,     0.47147,     0.47247,     0.47347,     0.47447,     0.47548,     0.47648,     0.47748,     0.47848,     0.47948,\n",
       "           0.48048,     0.48148,     0.48248,     0.48348,     0.48448,     0.48549,     0.48649,     0.48749,     0.48849,     0.48949,     0.49049,     0.49149,     0.49249,     0.49349,     0.49449,      0.4955,      0.4965,      0.4975,      0.4985,      0.4995,      0.5005,      0.5015,      0.5025,      0.5035,\n",
       "            0.5045,     0.50551,     0.50651,     0.50751,     0.50851,     0.50951,     0.51051,     0.51151,     0.51251,     0.51351,     0.51451,     0.51552,     0.51652,     0.51752,     0.51852,     0.51952,     0.52052,     0.52152,     0.52252,     0.52352,     0.52452,     0.52553,     0.52653,     0.52753,\n",
       "           0.52853,     0.52953,     0.53053,     0.53153,     0.53253,     0.53353,     0.53453,     0.53554,     0.53654,     0.53754,     0.53854,     0.53954,     0.54054,     0.54154,     0.54254,     0.54354,     0.54454,     0.54555,     0.54655,     0.54755,     0.54855,     0.54955,     0.55055,     0.55155,\n",
       "           0.55255,     0.55355,     0.55455,     0.55556,     0.55656,     0.55756,     0.55856,     0.55956,     0.56056,     0.56156,     0.56256,     0.56356,     0.56456,     0.56557,     0.56657,     0.56757,     0.56857,     0.56957,     0.57057,     0.57157,     0.57257,     0.57357,     0.57457,     0.57558,\n",
       "           0.57658,     0.57758,     0.57858,     0.57958,     0.58058,     0.58158,     0.58258,     0.58358,     0.58458,     0.58559,     0.58659,     0.58759,     0.58859,     0.58959,     0.59059,     0.59159,     0.59259,     0.59359,     0.59459,      0.5956,      0.5966,      0.5976,      0.5986,      0.5996,\n",
       "            0.6006,      0.6016,      0.6026,      0.6036,      0.6046,     0.60561,     0.60661,     0.60761,     0.60861,     0.60961,     0.61061,     0.61161,     0.61261,     0.61361,     0.61461,     0.61562,     0.61662,     0.61762,     0.61862,     0.61962,     0.62062,     0.62162,     0.62262,     0.62362,\n",
       "           0.62462,     0.62563,     0.62663,     0.62763,     0.62863,     0.62963,     0.63063,     0.63163,     0.63263,     0.63363,     0.63463,     0.63564,     0.63664,     0.63764,     0.63864,     0.63964,     0.64064,     0.64164,     0.64264,     0.64364,     0.64464,     0.64565,     0.64665,     0.64765,\n",
       "           0.64865,     0.64965,     0.65065,     0.65165,     0.65265,     0.65365,     0.65465,     0.65566,     0.65666,     0.65766,     0.65866,     0.65966,     0.66066,     0.66166,     0.66266,     0.66366,     0.66466,     0.66567,     0.66667,     0.66767,     0.66867,     0.66967,     0.67067,     0.67167,\n",
       "           0.67267,     0.67367,     0.67467,     0.67568,     0.67668,     0.67768,     0.67868,     0.67968,     0.68068,     0.68168,     0.68268,     0.68368,     0.68468,     0.68569,     0.68669,     0.68769,     0.68869,     0.68969,     0.69069,     0.69169,     0.69269,     0.69369,     0.69469,      0.6957,\n",
       "            0.6967,      0.6977,      0.6987,      0.6997,      0.7007,      0.7017,      0.7027,      0.7037,      0.7047,     0.70571,     0.70671,     0.70771,     0.70871,     0.70971,     0.71071,     0.71171,     0.71271,     0.71371,     0.71471,     0.71572,     0.71672,     0.71772,     0.71872,     0.71972,\n",
       "           0.72072,     0.72172,     0.72272,     0.72372,     0.72472,     0.72573,     0.72673,     0.72773,     0.72873,     0.72973,     0.73073,     0.73173,     0.73273,     0.73373,     0.73473,     0.73574,     0.73674,     0.73774,     0.73874,     0.73974,     0.74074,     0.74174,     0.74274,     0.74374,\n",
       "           0.74474,     0.74575,     0.74675,     0.74775,     0.74875,     0.74975,     0.75075,     0.75175,     0.75275,     0.75375,     0.75475,     0.75576,     0.75676,     0.75776,     0.75876,     0.75976,     0.76076,     0.76176,     0.76276,     0.76376,     0.76476,     0.76577,     0.76677,     0.76777,\n",
       "           0.76877,     0.76977,     0.77077,     0.77177,     0.77277,     0.77377,     0.77477,     0.77578,     0.77678,     0.77778,     0.77878,     0.77978,     0.78078,     0.78178,     0.78278,     0.78378,     0.78478,     0.78579,     0.78679,     0.78779,     0.78879,     0.78979,     0.79079,     0.79179,\n",
       "           0.79279,     0.79379,     0.79479,      0.7958,      0.7968,      0.7978,      0.7988,      0.7998,      0.8008,      0.8018,      0.8028,      0.8038,      0.8048,     0.80581,     0.80681,     0.80781,     0.80881,     0.80981,     0.81081,     0.81181,     0.81281,     0.81381,     0.81481,     0.81582,\n",
       "           0.81682,     0.81782,     0.81882,     0.81982,     0.82082,     0.82182,     0.82282,     0.82382,     0.82482,     0.82583,     0.82683,     0.82783,     0.82883,     0.82983,     0.83083,     0.83183,     0.83283,     0.83383,     0.83483,     0.83584,     0.83684,     0.83784,     0.83884,     0.83984,\n",
       "           0.84084,     0.84184,     0.84284,     0.84384,     0.84484,     0.84585,     0.84685,     0.84785,     0.84885,     0.84985,     0.85085,     0.85185,     0.85285,     0.85385,     0.85485,     0.85586,     0.85686,     0.85786,     0.85886,     0.85986,     0.86086,     0.86186,     0.86286,     0.86386,\n",
       "           0.86486,     0.86587,     0.86687,     0.86787,     0.86887,     0.86987,     0.87087,     0.87187,     0.87287,     0.87387,     0.87487,     0.87588,     0.87688,     0.87788,     0.87888,     0.87988,     0.88088,     0.88188,     0.88288,     0.88388,     0.88488,     0.88589,     0.88689,     0.88789,\n",
       "           0.88889,     0.88989,     0.89089,     0.89189,     0.89289,     0.89389,     0.89489,      0.8959,      0.8969,      0.8979,      0.8989,      0.8999,      0.9009,      0.9019,      0.9029,      0.9039,      0.9049,     0.90591,     0.90691,     0.90791,     0.90891,     0.90991,     0.91091,     0.91191,\n",
       "           0.91291,     0.91391,     0.91491,     0.91592,     0.91692,     0.91792,     0.91892,     0.91992,     0.92092,     0.92192,     0.92292,     0.92392,     0.92492,     0.92593,     0.92693,     0.92793,     0.92893,     0.92993,     0.93093,     0.93193,     0.93293,     0.93393,     0.93493,     0.93594,\n",
       "           0.93694,     0.93794,     0.93894,     0.93994,     0.94094,     0.94194,     0.94294,     0.94394,     0.94494,     0.94595,     0.94695,     0.94795,     0.94895,     0.94995,     0.95095,     0.95195,     0.95295,     0.95395,     0.95495,     0.95596,     0.95696,     0.95796,     0.95896,     0.95996,\n",
       "           0.96096,     0.96196,     0.96296,     0.96396,     0.96496,     0.96597,     0.96697,     0.96797,     0.96897,     0.96997,     0.97097,     0.97197,     0.97297,     0.97397,     0.97497,     0.97598,     0.97698,     0.97798,     0.97898,     0.97998,     0.98098,     0.98198,     0.98298,     0.98398,\n",
       "           0.98498,     0.98599,     0.98699,     0.98799,     0.98899,     0.98999,     0.99099,     0.99199,     0.99299,     0.99399,     0.99499,       0.996,       0.997,       0.998,       0.999,           1]), array([[    0.99239,     0.99239,     0.99239,     0.98913,     0.98478,     0.98261,     0.98261,     0.98152,     0.98152,     0.98152,     0.98152,     0.98043,     0.97826,     0.97826,     0.97826,     0.97826,     0.97826,     0.97717,     0.97717,     0.97717,     0.97717,     0.97717,     0.97609,\n",
       "            0.97609,       0.975,       0.975,       0.975,       0.975,       0.975,       0.975,       0.975,       0.975,     0.97391,     0.97391,     0.97391,     0.97391,     0.97283,     0.97283,     0.97283,     0.97283,     0.97283,     0.97283,     0.97283,     0.97283,     0.97283,     0.97283,\n",
       "            0.97283,     0.97283,     0.97283,     0.97174,     0.97174,     0.97174,     0.97065,     0.97065,     0.97065,     0.97065,     0.97065,     0.97065,     0.96957,     0.96957,     0.96848,     0.96848,     0.96848,     0.96848,     0.96739,     0.96739,     0.96739,     0.96739,      0.9663,\n",
       "             0.9663,      0.9663,      0.9663,      0.9663,      0.9663,      0.9663,      0.9663,      0.9663,      0.9663,      0.9663,      0.9663,     0.96522,     0.96522,     0.96522,     0.96522,     0.96522,     0.96522,     0.96522,     0.96522,     0.96522,     0.96522,     0.96522,     0.96522,\n",
       "            0.96522,     0.96522,     0.96522,     0.96522,     0.96522,     0.96522,     0.96522,     0.96522,     0.96413,     0.96413,     0.96413,     0.96413,     0.96413,     0.96413,     0.96413,     0.96413,     0.96413,     0.96413,     0.96413,     0.96413,     0.96413,     0.96413,     0.96413,\n",
       "            0.96413,     0.96413,     0.96413,     0.96413,     0.96413,     0.96413,     0.96413,     0.96413,     0.96413,     0.96413,     0.96413,     0.96413,     0.96413,     0.96413,     0.96413,     0.96413,     0.96413,     0.96413,     0.96413,     0.96413,     0.96413,     0.96413,     0.96413,\n",
       "            0.96413,     0.96413,     0.96413,     0.96413,     0.96358,     0.96304,     0.96277,     0.96196,     0.96196,     0.96196,     0.96196,     0.96196,     0.96165,     0.96087,     0.96087,     0.96087,     0.96087,     0.96007,     0.95978,      0.9587,      0.9587,      0.9587,      0.9587,\n",
       "             0.9587,     0.95866,     0.95761,     0.95761,     0.95761,     0.95761,     0.95761,     0.95761,     0.95761,     0.95761,     0.95761,     0.95761,     0.95761,     0.95761,     0.95761,     0.95761,     0.95579,     0.95543,     0.95543,     0.95543,     0.95543,     0.95543,     0.95543,\n",
       "            0.95543,     0.95543,     0.95543,     0.95543,     0.95543,     0.95543,     0.95435,     0.95435,     0.95435,     0.95435,     0.95435,      0.9538,      0.9531,     0.95224,     0.95217,     0.95217,     0.95109,        0.95,        0.95,        0.95,        0.95,        0.95,        0.95,\n",
       "               0.95,        0.95,        0.95,        0.95,        0.95,        0.95,        0.95,        0.95,        0.95,        0.95,     0.94946,     0.94891,      0.9486,     0.94783,     0.94783,     0.94783,     0.94783,     0.94783,     0.94783,     0.94783,     0.94783,     0.94783,     0.94783,\n",
       "            0.94783,     0.94783,     0.94783,     0.94783,     0.94783,     0.94783,     0.94783,     0.94783,     0.94783,       0.946,     0.94565,     0.94565,     0.94565,     0.94565,     0.94486,     0.94457,     0.94457,     0.94457,     0.94457,     0.94457,     0.94457,     0.94457,     0.94457,\n",
       "            0.94457,     0.94457,     0.94457,     0.94457,     0.94457,     0.94348,     0.94348,     0.94348,     0.94348,     0.94348,     0.94348,     0.94348,     0.94348,     0.94348,     0.94348,     0.94348,     0.94348,     0.94342,     0.94239,     0.94239,     0.94239,     0.94239,     0.94239,\n",
       "            0.94239,     0.94239,     0.94156,     0.94077,     0.94022,     0.94022,     0.94022,     0.94022,     0.94022,     0.94022,     0.94022,     0.94022,     0.94022,     0.94022,     0.94022,     0.94022,     0.94022,     0.93921,     0.93894,     0.93788,      0.9374,     0.93689,     0.93614,\n",
       "            0.93587,     0.93587,     0.93587,     0.93587,     0.93587,     0.93587,     0.93561,     0.93478,     0.93478,     0.93478,     0.93478,     0.93406,      0.9337,      0.9337,      0.9337,      0.9337,     0.93261,     0.93261,     0.93261,     0.93261,     0.93261,     0.93261,     0.93261,\n",
       "            0.93261,     0.93261,     0.93261,     0.93127,     0.93078,      0.9301,     0.92935,     0.92935,     0.92935,     0.92826,     0.92826,     0.92826,     0.92826,     0.92826,     0.92826,     0.92826,     0.92826,     0.92826,     0.92763,     0.92717,     0.92717,     0.92717,     0.92717,\n",
       "            0.92717,     0.92704,      0.9268,     0.92657,     0.92633,      0.9261,       0.925,       0.925,       0.925,       0.925,       0.925,       0.925,     0.92468,     0.92391,     0.92391,     0.92391,     0.92391,     0.92354,     0.92283,     0.92174,     0.92174,     0.92065,     0.92065,\n",
       "            0.92065,     0.92065,     0.91957,     0.91957,     0.91957,     0.91883,     0.91739,     0.91739,     0.91739,      0.9163,      0.9163,      0.9163,      0.9163,      0.9163,      0.9163,      0.9163,      0.9163,      0.9163,      0.9163,     0.91598,     0.91548,     0.91522,     0.91522,\n",
       "            0.91522,     0.91522,     0.91461,     0.91413,     0.91413,     0.91413,     0.91413,     0.91413,     0.91413,     0.91413,     0.91362,     0.91304,     0.91304,     0.91304,     0.91304,     0.91304,     0.91304,     0.91304,     0.91304,     0.91304,      0.9128,     0.91244,     0.91209,\n",
       "            0.91196,     0.91196,     0.91196,     0.91196,     0.91156,     0.90982,      0.9073,     0.90652,     0.90652,     0.90652,     0.90652,     0.90652,     0.90652,     0.90652,     0.90652,     0.90652,     0.90541,     0.90217,     0.90217,     0.90217,     0.90217,     0.90182,     0.90136,\n",
       "            0.90109,     0.90109,     0.90109,     0.90016,     0.89915,     0.89891,     0.89891,     0.89891,     0.89891,     0.89891,     0.89891,     0.89891,     0.89891,     0.89891,     0.89891,     0.89891,     0.89891,     0.89891,     0.89891,     0.89891,     0.89891,     0.89891,     0.89891,\n",
       "            0.89811,     0.89731,     0.89674,     0.89674,     0.89674,     0.89672,     0.89634,     0.89596,     0.89559,     0.89523,     0.89488,     0.89457,     0.89457,     0.89457,     0.89457,     0.89457,     0.89457,     0.89348,     0.89348,     0.89328,     0.89248,     0.89239,     0.89239,\n",
       "            0.89239,     0.89239,     0.89239,     0.89239,     0.89099,     0.89015,     0.88991,     0.88967,     0.88943,     0.88918,     0.88913,     0.88891,     0.88838,     0.88804,     0.88777,     0.88697,     0.88664,     0.88632,     0.88601,     0.88528,     0.88461,     0.88428,     0.88394,\n",
       "            0.88359,      0.8832,     0.88281,     0.88043,     0.88043,     0.88016,     0.87943,     0.87935,     0.87835,     0.87717,     0.87703,      0.8769,     0.87676,     0.87662,     0.87648,     0.87635,     0.87621,     0.87602,     0.87536,     0.87477,     0.87426,     0.87349,     0.87174,\n",
       "            0.87174,     0.87044,     0.86955,     0.86913,     0.86872,     0.86822,     0.86758,     0.86684,     0.86618,      0.8658,     0.86542,     0.86413,     0.86413,     0.86413,     0.86413,     0.86413,     0.86413,     0.86394,     0.86349,     0.86295,     0.86088,     0.86085,     0.85983,\n",
       "            0.85978,     0.85815,     0.85761,     0.85662,     0.85496,     0.85439,     0.85326,     0.85325,     0.85266,     0.85212,     0.85186,     0.85159,     0.85132,     0.85101,      0.8504,     0.84977,     0.84913,     0.84891,     0.84891,     0.84891,     0.84891,     0.84865,     0.84798,\n",
       "            0.84733,     0.84674,     0.84486,     0.84457,     0.84457,     0.84348,     0.84272,     0.84239,     0.84239,     0.84122,     0.84092,     0.84062,     0.84031,     0.83894,     0.83802,     0.83696,     0.83696,     0.83696,      0.8368,     0.83658,     0.83636,     0.83614,     0.83591,\n",
       "            0.83587,      0.8357,     0.83478,     0.83462,       0.833,     0.83261,     0.83261,     0.83261,     0.83152,     0.83152,     0.83055,     0.83001,     0.82955,     0.82935,     0.82826,     0.82826,     0.82826,     0.82826,     0.82826,     0.82826,     0.82826,     0.82826,     0.82826,\n",
       "            0.82774,     0.82675,     0.82592,     0.82552,     0.82511,     0.82476,     0.82442,     0.82408,     0.82311,     0.82283,     0.82174,     0.82065,     0.82065,     0.82065,     0.82065,     0.82045,     0.81996,      0.8193,      0.8181,     0.81723,     0.81669,     0.81599,     0.81522,\n",
       "            0.81522,     0.81522,     0.81503,     0.81466,     0.81428,     0.81291,     0.81264,     0.81237,     0.81209,     0.81093,     0.81037,     0.80985,     0.80741,     0.80708,     0.80675,     0.80543,     0.80543,     0.80529,       0.805,     0.80471,     0.80442,     0.80435,     0.80435,\n",
       "            0.80435,     0.80296,     0.80217,     0.80217,     0.80191,     0.80146,     0.80097,     0.80021,     0.79818,     0.79732,     0.79588,     0.79373,     0.79348,      0.7911,     0.79057,     0.79004,      0.7895,     0.78856,     0.78791,     0.78696,     0.78696,     0.78696,     0.78696,\n",
       "            0.78696,     0.78527,     0.78341,     0.78293,     0.78143,     0.78001,     0.77935,     0.77935,     0.77905,     0.77872,     0.77839,     0.77769,     0.77475,     0.77284,     0.77223,     0.77167,     0.77128,      0.7709,     0.77011,     0.76939,     0.76912,     0.76885,     0.76859,\n",
       "            0.76781,     0.76739,     0.76667,     0.76512,     0.76358,      0.7623,     0.76064,     0.75952,     0.75797,     0.75646,     0.75565,     0.75543,     0.75439,     0.75252,     0.75217,     0.75217,     0.75217,     0.75109,     0.75109,     0.75109,     0.75028,     0.74912,      0.7483,\n",
       "            0.74672,     0.74565,     0.74239,     0.74103,     0.74073,     0.74044,     0.74006,     0.73939,     0.73913,     0.73765,     0.73663,     0.73619,     0.73488,     0.73329,     0.73212,     0.73118,     0.73073,      0.7303,      0.7299,     0.72951,     0.72935,     0.72935,     0.72935,\n",
       "            0.72697,     0.72574,       0.725,       0.725,      0.7244,     0.72174,      0.7214,     0.71931,     0.71701,     0.71551,      0.7144,     0.71364,     0.71268,     0.71097,     0.70982,     0.70652,     0.70448,     0.70208,     0.70173,     0.70138,      0.7008,     0.69767,     0.69724,\n",
       "            0.69681,     0.69603,     0.69224,     0.69096,     0.68908,     0.68846,     0.68789,     0.68741,     0.68665,     0.68252,     0.68099,     0.67818,     0.67719,     0.67643,     0.67575,     0.67519,     0.67317,     0.67086,     0.66622,     0.66416,     0.66287,     0.65843,     0.65655,\n",
       "            0.65652,     0.65406,     0.65268,     0.64975,     0.64821,      0.6448,     0.64243,     0.64067,     0.63558,     0.63373,     0.63074,     0.62652,     0.62195,     0.61786,     0.61672,     0.61336,     0.60665,     0.60164,     0.59479,     0.59153,     0.58452,     0.58092,     0.57614,\n",
       "            0.57175,     0.56922,     0.56826,     0.56346,     0.55809,     0.55265,     0.54918,     0.54614,     0.54239,     0.53651,     0.52845,     0.52089,     0.51236,     0.50897,     0.50534,     0.49811,     0.49059,     0.48343,     0.47789,     0.47309,      0.4605,     0.45282,      0.4482,\n",
       "            0.44436,     0.43259,     0.42545,      0.4196,     0.41228,     0.40346,     0.39748,     0.39185,     0.38272,     0.37555,     0.36345,     0.35584,     0.34696,     0.34058,     0.33137,      0.3174,     0.31177,     0.30084,     0.29434,     0.28843,     0.28178,     0.27641,     0.26564,\n",
       "            0.25548,     0.24871,     0.24397,     0.23718,     0.23127,     0.21883,      0.2153,     0.20534,     0.19975,     0.19826,        0.19,      0.1851,     0.18055,     0.17374,     0.16023,     0.15302,     0.14514,     0.13779,     0.12935,      0.1262,     0.12375,     0.11733,     0.11061,\n",
       "            0.10258,    0.094816,    0.089779,    0.086192,    0.081462,    0.073852,    0.071187,    0.069052,    0.062272,     0.05526,    0.053556,    0.051183,    0.045479,    0.041897,    0.038109,    0.032712,    0.029372,    0.025923,    0.024269,    0.021754,    0.017088,    0.016395,    0.015317,\n",
       "           0.014759,    0.014256,    0.011728,    0.010452,   0.0094865,    0.009124,   0.0087614,   0.0078095,   0.0072291,    0.006763,   0.0063811,   0.0060895,   0.0057979,   0.0055063,   0.0042257,   0.0040525,   0.0038792,    0.003706,   0.0035327,   0.0033595,   0.0032367,   0.0031807,   0.0031247,\n",
       "          0.0030687,   0.0030127,   0.0029566,   0.0029006,   0.0028446,   0.0027886,   0.0027326,   0.0026766,   0.0026205,   0.0025645,   0.0025085,   0.0024525,   0.0023965,   0.0023405,   0.0022844,   0.0022284,   0.0021714,   0.0020764,   0.0019815,   0.0018865,   0.0017916,   0.0016966,   0.0016017,\n",
       "          0.0015067,   0.0014118,   0.0013168,   0.0012219,   0.0011269,           0,           0,           0,           0,           0,           0,           0,           0,           0,           0,           0,           0,           0,           0,           0,           0,           0,           0,\n",
       "                  0,           0,           0,           0,           0,           0,           0,           0,           0,           0,           0]]), 'Confidence', 'Recall']]\n",
       "fitness: np.float64(0.7283386129569425)\n",
       "keys: ['metrics/precision(B)', 'metrics/recall(B)', 'metrics/mAP50(B)', 'metrics/mAP50-95(B)']\n",
       "maps: array([    0.70441])\n",
       "names: {0: 'Weeds'}\n",
       "plot: True\n",
       "results_dict: {'metrics/precision(B)': np.float64(0.8996379762435476), 'metrics/recall(B)': np.float64(0.8989130434782608), 'metrics/mAP50(B)': np.float64(0.9436841205935105), 'metrics/mAP50-95(B)': np.float64(0.7044113343306571), 'fitness': np.float64(0.7283386129569425)}\n",
       "save_dir: WindowsPath('C:/Users/Cristina/Documents/DeteccaoPlantas/runs/detect/treinamento_ervas_final')\n",
       "speed: {'preprocess': 0.8137008357821629, 'inference': 53.513660724242385, 'loss': 0.00013648999289383795, 'postprocess': 1.1753598884757201}\n",
       "task: 'detect'"
      ]
     },
     "execution_count": 2,
     "metadata": {},
     "output_type": "execute_result"
    }
   ],
   "source": [
    "from pathlib import Path\n",
    "from ultralytics import YOLO\n",
    "\n",
    "project_root = Path.home() / 'Documents' / 'DeteccaoPlantas'\n",
    "data_yaml_path = project_root / 'data' / 'Weeds' / 'data.yaml'\n",
    "\n",
    "assert data_yaml_path.exists(), f\"Arquivo não encontrado: {data_yaml_path}\"\n",
    "\n",
    "\n",
    "modelo = YOLO('yolov8n.pt')\n",
    "\n",
    "modelo.train(\n",
    "    data=str(data_yaml_path),\n",
    "    epochs=20,            \n",
    "    imgsz=416,            \n",
    "    batch=8,\n",
    "    name='treinamento_ervas_final',\n",
    "    project=str(project_root / 'runs' / 'detect'),\n",
    "    patience=5,           # se não melhorar em 5 épocas\n",
    "    cache=True,           \n",
    "    verbose=True\n",
    ")"
   ]
  },
  {
   "cell_type": "code",
   "execution_count": 3,
   "id": "801b66d0",
   "metadata": {},
   "outputs": [
    {
     "name": "stdout",
     "output_type": "stream",
     "text": [
      "Ultralytics 8.3.119  Python-3.11.0 torch-2.7.0+cpu CPU (Intel Core(TM) i7-8665U 1.90GHz)\n",
      "Model summary (fused): 72 layers, 3,005,843 parameters, 0 gradients, 8.1 GFLOPs\n",
      "\u001b[34m\u001b[1mval: \u001b[0mFast image access  (ping: 0.10.0 ms, read: 136.842.0 MB/s, size: 49.8 KB)\n"
     ]
    },
    {
     "name": "stderr",
     "output_type": "stream",
     "text": [
      "\u001b[34m\u001b[1mval: \u001b[0mScanning C:\\Users\\Cristina\\Documents\\DeteccaoPlantas\\data\\Weeds\\valid\\labels.cache... 359 images, 0 backgrounds, 0 corrupt: 100%|██████████| 359/359 [00:00<?, ?it/s]"
     ]
    },
    {
     "name": "stdout",
     "output_type": "stream",
     "text": [
      "WARNING cache='ram' may produce non-deterministic training results. Consider cache='disk' as a deterministic alternative if your disk space allows.\n"
     ]
    },
    {
     "name": "stderr",
     "output_type": "stream",
     "text": [
      "\n",
      "\u001b[34m\u001b[1mval: \u001b[0mCaching images (0.2GB RAM): 100%|██████████| 359/359 [00:00<00:00, 1766.90it/s]\n",
      "c:\\Users\\Cristina\\Documents\\DeteccaoPlantas\\.venv\\Lib\\site-packages\\torch\\utils\\data\\dataloader.py:665: UserWarning: 'pin_memory' argument is set as true but no accelerator is found, then device pinned memory won't be used.\n",
      "  warnings.warn(warn_msg)\n",
      "                 Class     Images  Instances      Box(P          R      mAP50  mAP50-95): 100%|██████████| 45/45 [00:23<00:00,  1.92it/s]\n"
     ]
    },
    {
     "name": "stdout",
     "output_type": "stream",
     "text": [
      "                   all        359        920        0.9      0.899      0.944      0.704\n",
      "Speed: 0.6ms preprocess, 57.5ms inference, 0.0ms loss, 1.2ms postprocess per image\n",
      "Results saved to \u001b[1mC:\\Users\\Cristina\\Documents\\DeteccaoPlantas\\runs\\detect\\treinamento_ervas_final2\u001b[0m\n",
      "\n",
      "Resultados da Validação\n",
      "metrics/precision(B): 0.8996\n",
      "metrics/recall(B): 0.8989\n",
      "metrics/mAP50(B): 0.9437\n",
      "metrics/mAP50-95(B): 0.7044\n",
      "fitness: 0.7283\n",
      "\n",
      " Resultado_metricas.csv\n"
     ]
    }
   ],
   "source": [
    "import pandas as pd\n",
    "\n",
    "results = modelo.val()\n",
    "try:\n",
    "    metrics_dict = results.results_dict\n",
    "except AttributeError:\n",
    "    metrics_dict = results[0].results_dict if isinstance(results, list) else {}\n",
    "\n",
    "if metrics_dict:\n",
    "    print(\"\\nResultados da Validação\")\n",
    "    for k, v in metrics_dict.items():\n",
    "        print(f\"{k}: {v:.4f}\")\n",
    "    df = pd.DataFrame(metrics_dict.items(), columns=[\"Métrica\", \"Valor\"])\n",
    "    df.to_csv(\"Resultado_metricas.csv\", index=False)\n",
    "    print(\"\\n Resultado_metricas.csv\")\n",
    "else:\n",
    "    print(\"Não foi possível encontrar o dicionário de métricas\")\n"
   ]
  },
  {
   "cell_type": "code",
   "execution_count": null,
   "id": "24e75488",
   "metadata": {},
   "outputs": [
    {
     "name": "stdout",
     "output_type": "stream",
     "text": [
      "⚠ Arquivo metrics.json não encontrado. Pulei o gráfico de barras.\n",
      "Curva PR salva em: C:\\Users\\Cristina\\Documents\\DeteccaoPlantas\\runs\\detect\\treinamento_ervas_final\\curva_precision_recall.png\n"
     ]
    },
    {
     "data": {
      "image/png": "[encoded data removed]",
      "text/plain": [
       "<Figure size 800x500 with 1 Axes>"
      ]
     },
     "metadata": {},
     "output_type": "display_data"
    }
   ],
   "source": [
    "%matplotlib inline\n",
    "\n",
    "import pandas as pd\n",
    "import matplotlib.pyplot as plt\n",
    "import json\n",
    "from pathlib import Path\n",
    "\n",
    "experimento = Path.home() / 'Documents' / 'DeteccaoPlantas' / 'runs' / 'detect' / 'treinamento_ervas_final'\n",
    "\n",
    "metrics_file = experimento / 'metrics.json'      \n",
    "pr_curve_file = experimento / 'PR_curve.png'     \n",
    "results_csv_file = experimento / 'results.csv'   \n",
    "\n",
    "if metrics_file.exists():\n",
    "    with open(metrics_file, 'r') as f:\n",
    "        metrics_data = json.load(f)\n",
    "\n",
    "    \n",
    "    classes = metrics_data['names']\n",
    "    precisao = metrics_data['metrics']['precision']\n",
    "    recall = metrics_data['metrics']['recall']\n",
    "    map50 = metrics_data['metrics']['map50']\n",
    "    map5095 = metrics_data['metrics']['map']\n",
    "\n",
    "    df_metrics = pd.DataFrame({\n",
    "        'Classe': classes,\n",
    "        'Precisão': precisao,\n",
    "        'Recall': recall,\n",
    "        'mAP@0.5': map50,\n",
    "        'mAP@0.5:0.95': map5095\n",
    "    })\n",
    "\n",
    "    df_metrics.plot(\n",
    "        x='Classe',\n",
    "        kind='bar',\n",
    "        figsize=(8, 5),\n",
    "        color=['#1f77b4', '#ff7f0e', '#2ca02c', '#d62728']\n",
    "    )\n",
    "    plt.title('Métricas de Desempenho por Classe', fontsize=14)\n",
    "    plt.ylabel('Valor', fontsize=12)\n",
    "    plt.ylim(0, 1)\n",
    "    plt.grid(axis='y', linestyle='--', alpha=0.7)\n",
    "    plt.tight_layout()\n",
    "    plt.savefig(experimento / 'grafico_metricas_barras.png', dpi=300)\n",
    "    plt.show()\n",
    "else:\n",
    "    print(\"⚠ Arquivo metrics.json não encontrado. \")\n",
    "\n",
    "\n",
    "if pr_curve_file.exists():\n",
    "    import shutil\n",
    "   \n",
    "    destino = experimento / 'curva_precision_recall.png'\n",
    "    shutil.copy(pr_curve_file, destino)\n",
    "    print(f\"Curva PR salva em: {destino}\")\n",
    "else:\n",
    "    print(\"⚠ PR_curve.png não encontrado.\")\n",
    "\n",
    "\n",
    "if results_csv_file.exists():\n",
    "    df_results = pd.read_csv(results_csv_file)\n",
    "\n",
    "    plt.figure(figsize=(8, 5))\n",
    "    plt.plot(df_results['epoch'], df_results['metrics/precision(B)'], label='Precisão', marker='o')\n",
    "    plt.plot(df_results['epoch'], df_results['metrics/recall(B)'], label='Recall', marker='o')\n",
    "    plt.plot(df_results['epoch'], df_results['metrics/mAP50(B)'], label='mAP@0.5', marker='o')\n",
    "    plt.plot(df_results['epoch'], df_results['metrics/mAP50-95(B)'], label='mAP@0.5:0.95', marker='o')\n",
    "\n",
    "    plt.title('Evolução das Métricas Durante o Treinamento', fontsize=14)\n",
    "    plt.xlabel('Época', fontsize=12)\n",
    "    plt.ylabel('Valor', fontsize=12)\n",
    "    plt.ylim(0, 1)\n",
    "    plt.legend()\n",
    "    plt.grid(True, linestyle='--', alpha=0.7)\n",
    "    plt.tight_layout()\n",
    "    plt.savefig(experimento / 'grafico_evolucao_metricas.png', dpi=300)\n",
    "    plt.show()\n",
    "else:\n",
    "    print(\"⚠ results.csv não encontrado.\")\n"
   ]
  }
 ],
 "metadata": {
  "kernelspec": {
   "display_name": ".venv",
   "language": "python",
   "name": "python3"
  },
  "language_info": {
   "codemirror_mode": {
    "name": "ipython",
    "version": 3
   },
   "file_extension": ".py",
   "mimetype": "text/x-python",
   "name": "python",
   "nbconvert_exporter": "python",
   "pygments_lexer": "ipython3",
   "version": "3.11.0"
  }
 },
 "nbformat": 4,
 "nbformat_minor": 5
}
