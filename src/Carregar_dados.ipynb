{
 "cells": [
  {
   "cell_type": "code",
   "execution_count": 1,
   "id": "420434f5",
   "metadata": {},
   "outputs": [],
   "source": [
    "caminho_base = '../data/Weeds'"
   ]
  },
  {
   "cell_type": "code",
   "execution_count": 2,
   "id": "d105218c",
   "metadata": {},
   "outputs": [
    {
     "name": "stdout",
     "output_type": "stream",
     "text": [
      "Encontradas 3664 imagens em ..\\data\\Weeds\\train\\images\n"
     ]
    }
   ],
   "source": [
    "from pathlib import Path\n",
    "\n",
    "def listar_imagens(pasta):\n",
    "    pasta = Path(pasta)\n",
    "    imagens = list(pasta.glob('*.jpg'))\n",
    "    print(f\"Encontradas {len(imagens)} imagens em {pasta}\")\n",
    "    return imagens\n",
    "imagens_treino = listar_imagens(Path(caminho_base) / 'train' / 'images')"
   ]
  },
  {
   "cell_type": "code",
   "execution_count": 3,
   "id": "38b537d8",
   "metadata": {},
   "outputs": [],
   "source": [
    "import cv2\n",
    "\n",
    "def carregar_imagem_label(caminho_imagem, caminho_label):\n",
    " \n",
    "    imagem = cv2.imread(str(caminho_imagem))\n",
    "    if imagem is None:\n",
    "        print(f\"Erro ao carregar a imagem: {caminho_imagem}\")\n",
    "    else:\n",
    "        imagem = cv2.cvtColor(imagem, cv2.COLOR_BGR2RGB)\n",
    "\n",
    "    labels = []\n",
    "    if Path(caminho_label).exists():\n",
    "        with open(caminho_label, 'r') as f:\n",
    "            labels = f.readlines()\n",
    "    else:\n",
    "        print(f\"Arquivo não encontrado: {caminho_label}\")\n",
    "\n",
    "    return imagem, labels\n",
    "\n",
    "img_exemplo, label_exemplo = carregar_imagem_label(\n",
    "    imagens_treino[0],\n",
    "    Path(caminho_base) / 'train' / 'labels' / (imagens_treino[0].stem + '.txt')\n",
    ")\n"
   ]
  },
  {
   "cell_type": "code",
   "execution_count": 4,
   "id": "01da5e01",
   "metadata": {},
   "outputs": [
    {
     "name": "stdout",
     "output_type": "stream",
     "text": [
      "{'train': {'imagens': 3664, 'labels': 3664}, 'valid': {'imagens': 359, 'labels': 359}, 'test': {'imagens': 180, 'labels': 180}}\n"
     ]
    }
   ],
   "source": [
    "def estatisticas_dataset(caminho_base):\n",
    "\n",
    "    caminho_base = Path(caminho_base)\n",
    "    conjuntos = ['train', 'valid', 'test']\n",
    "    stats = {}\n",
    "\n",
    "    for conjunto in conjuntos:\n",
    "        caminho_img = caminho_base / conjunto / 'images'\n",
    "        caminho_lbl = caminho_base / conjunto / 'labels'\n",
    "\n",
    "        n_imagens = len(list(caminho_img.glob('*.jpg')))\n",
    "        n_labels = len(list(caminho_lbl.glob('*.txt')))\n",
    "\n",
    "        stats[conjunto] = {'imagens': n_imagens, 'labels': n_labels}\n",
    "\n",
    "    return stats\n",
    "\n",
    "stats = estatisticas_dataset(caminho_base)\n",
    "print(stats)\n"
   ]
  }
 ],
 "metadata": {
  "kernelspec": {
   "display_name": ".venv",
   "language": "python",
   "name": "python3"
  },
  "language_info": {
   "codemirror_mode": {
    "name": "ipython",
    "version": 3
   },
   "file_extension": ".py",
   "mimetype": "text/x-python",
   "name": "python",
   "nbconvert_exporter": "python",
   "pygments_lexer": "ipython3",
   "version": "3.11.0"
  }
 },
 "nbformat": 4,
 "nbformat_minor": 5
}
